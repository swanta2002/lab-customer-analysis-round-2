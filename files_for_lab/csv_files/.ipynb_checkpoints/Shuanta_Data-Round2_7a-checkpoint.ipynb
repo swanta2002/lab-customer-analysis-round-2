{
 "cells": [
  {
   "cell_type": "markdown",
   "id": "b4ae2cb9",
   "metadata": {},
   "source": [
    "# Data Cleaning and wrangling"
   ]
  },
  {
   "cell_type": "code",
   "execution_count": 1,
   "id": "dbdf4908",
   "metadata": {},
   "outputs": [],
   "source": [
    "import pandas as pd\n",
    "import numpy as np\n",
    "import matplotlib\n",
    "import matplotlib.pyplot as plt\n",
    "import seaborn as sns"
   ]
  },
  {
   "cell_type": "code",
   "execution_count": 2,
   "id": "a97ff133",
   "metadata": {},
   "outputs": [
    {
     "data": {
      "text/plain": [
       "(10910, 26)"
      ]
     },
     "execution_count": 2,
     "metadata": {},
     "output_type": "execute_result"
    }
   ],
   "source": [
    "file = pd.read_csv('marketing_customer_analysis.csv') # reading and editing showing the Dataframe\n",
    "#display(file.head(10))\n",
    "#display(file.tail())\n",
    "file.shape"
   ]
  },
  {
   "cell_type": "code",
   "execution_count": null,
   "id": "8845090b",
   "metadata": {},
   "outputs": [],
   "source": []
  },
  {
   "cell_type": "code",
   "execution_count": 3,
   "id": "b8b264dc",
   "metadata": {},
   "outputs": [],
   "source": [
    "cols = []                        # standardizing the header names\n",
    "for column in file.columns:\n",
    "    cols.append(column.lower())\n",
    "cols\n",
    "file.columns = cols\n",
    "#file.head()\n",
    "#file"
   ]
  },
  {
   "cell_type": "code",
   "execution_count": 4,
   "id": "0c5e8a07",
   "metadata": {},
   "outputs": [
    {
     "data": {
      "text/plain": [
       "Index(['unnamed: 0', 'customer', 'state', 'customer lifetime value',\n",
       "       'response', 'coverage', 'education', 'effective to date',\n",
       "       'employmentstatus', 'gender', 'income', 'location code',\n",
       "       'marital status', 'monthly premium auto', 'months since last claim',\n",
       "       'months since policy inception', 'number of open complaints',\n",
       "       'number of policies', 'policy type', 'policy', 'renew offer type',\n",
       "       'sales channel', 'total claim amount', 'vehicle class', 'vehicle size',\n",
       "       'vehicle type'],\n",
       "      dtype='object')"
      ]
     },
     "execution_count": 4,
     "metadata": {},
     "output_type": "execute_result"
    }
   ],
   "source": [
    "column_names1 = file.columns  # for visualizing the column headers\n",
    "column_names1"
   ]
  },
  {
   "cell_type": "code",
   "execution_count": 5,
   "id": "81066666",
   "metadata": {},
   "outputs": [],
   "source": [
    "#file = file.rename(columns={'customer':'customer id',                # trying to rename columns in order to maximize space\n",
    "                           # 'customer lifetime value':'client value', \n",
    "                            #'education':'education', 'gender':'gender',\n",
    "                            #'income':'income', 'monthly premium auto':'premium auto', \n",
    "                             #'number of open complaints':'open cases','total claim amount': 'total claims', \n",
    "                             #'st':'state', 'vehicle class': 'vehicle class'})"
   ]
  },
  {
   "cell_type": "code",
   "execution_count": 6,
   "id": "3bf783df",
   "metadata": {},
   "outputs": [],
   "source": [
    "#file.dtypes        # checking the data types of the columns"
   ]
  },
  {
   "cell_type": "code",
   "execution_count": 7,
   "id": "5ff76375",
   "metadata": {},
   "outputs": [],
   "source": [
    "#file.select_dtypes(include ='number') # numerical data # numerical data"
   ]
  },
  {
   "cell_type": "code",
   "execution_count": 8,
   "id": "af19f481",
   "metadata": {},
   "outputs": [],
   "source": [
    "#numerical.fillna(0, inplace = True)\n",
    "#numerical.isna().sum()"
   ]
  },
  {
   "cell_type": "code",
   "execution_count": 9,
   "id": "ceafbeff",
   "metadata": {},
   "outputs": [],
   "source": [
    "#file.select_dtypes(include = object) # categorical data"
   ]
  },
  {
   "cell_type": "code",
   "execution_count": 10,
   "id": "76c2dde5",
   "metadata": {},
   "outputs": [
    {
     "data": {
      "text/plain": [
       "True"
      ]
     },
     "execution_count": 10,
     "metadata": {},
     "output_type": "execute_result"
    }
   ],
   "source": [
    "file.isna().values.any() # checking if NaN values exist"
   ]
  },
  {
   "cell_type": "code",
   "execution_count": 11,
   "id": "d9fc94ef",
   "metadata": {},
   "outputs": [
    {
     "data": {
      "text/plain": [
       "unnamed: 0                          0\n",
       "customer                            0\n",
       "state                             631\n",
       "customer lifetime value             0\n",
       "response                          631\n",
       "coverage                            0\n",
       "education                           0\n",
       "effective to date                   0\n",
       "employmentstatus                    0\n",
       "gender                              0\n",
       "income                              0\n",
       "location code                       0\n",
       "marital status                      0\n",
       "monthly premium auto                0\n",
       "months since last claim           633\n",
       "months since policy inception       0\n",
       "number of open complaints         633\n",
       "number of policies                  0\n",
       "policy type                         0\n",
       "policy                              0\n",
       "renew offer type                    0\n",
       "sales channel                       0\n",
       "total claim amount                  0\n",
       "vehicle class                     622\n",
       "vehicle size                      622\n",
       "vehicle type                     5482\n",
       "dtype: int64"
      ]
     },
     "execution_count": 11,
     "metadata": {},
     "output_type": "execute_result"
    }
   ],
   "source": [
    "file.isna().sum() # calculating the number of NaN values column by column"
   ]
  },
  {
   "cell_type": "code",
   "execution_count": 12,
   "id": "f63d761d",
   "metadata": {},
   "outputs": [
    {
     "data": {
      "text/plain": [
       "vehicle type\n",
       "NaN    5482\n",
       "A      5428\n",
       "Name: count, dtype: int64"
      ]
     },
     "execution_count": 12,
     "metadata": {},
     "output_type": "execute_result"
    }
   ],
   "source": [
    "file['vehicle type'].value_counts(dropna = False) # checing NAN for vehicle types"
   ]
  },
  {
   "cell_type": "code",
   "execution_count": 13,
   "id": "428178de",
   "metadata": {},
   "outputs": [
    {
     "data": {
      "text/plain": [
       "vehicle type\n",
       "M    5482\n",
       "A    5428\n",
       "Name: count, dtype: int64"
      ]
     },
     "execution_count": 13,
     "metadata": {},
     "output_type": "execute_result"
    }
   ],
   "source": [
    "file['vehicle type'] = file['vehicle type'].fillna('M')  # filing NaNs for vehicle types\n",
    "file['vehicle type'].value_counts(dropna = False)"
   ]
  },
  {
   "cell_type": "code",
   "execution_count": 14,
   "id": "777f01dd",
   "metadata": {},
   "outputs": [
    {
     "data": {
      "text/plain": [
       "customer                         0\n",
       "state                            0\n",
       "customer lifetime value          0\n",
       "response                         0\n",
       "coverage                         0\n",
       "education                        0\n",
       "effective to date                0\n",
       "employmentstatus                 0\n",
       "gender                           0\n",
       "income                           0\n",
       "location code                    0\n",
       "marital status                   0\n",
       "monthly premium auto             0\n",
       "months since last claim          0\n",
       "months since policy inception    0\n",
       "number of open complaints        0\n",
       "number of policies               0\n",
       "policy type                      0\n",
       "policy                           0\n",
       "renew offer type                 0\n",
       "sales channel                    0\n",
       "total claim amount               0\n",
       "vehicle class                    0\n",
       "vehicle size                     0\n",
       "vehicle type                     0\n",
       "dtype: int64"
      ]
     },
     "execution_count": 14,
     "metadata": {},
     "output_type": "execute_result"
    }
   ],
   "source": [
    "file=file.drop(columns=['unnamed: 0'])  # drop a column  \n",
    "file=file.dropna()   # drop rows with nan values\n",
    "file.isna().sum()"
   ]
  },
  {
   "cell_type": "code",
   "execution_count": null,
   "id": "0793272b",
   "metadata": {},
   "outputs": [],
   "source": []
  },
  {
   "cell_type": "code",
   "execution_count": 15,
   "id": "b41224c2",
   "metadata": {},
   "outputs": [
    {
     "name": "stderr",
     "output_type": "stream",
     "text": [
      "C:\\Users\\Admin\\AppData\\Local\\Temp\\ipykernel_15812\\2460974267.py:1: UserWarning: Could not infer format, so each element will be parsed individually, falling back to `dateutil`. To ensure parsing is consistent and as-expected, please specify a format.\n",
      "  file['effective to date'] = pd.to_datetime(file['effective to date']) # extracting date-months from date\n"
     ]
    }
   ],
   "source": [
    "file['effective to date'] = pd.to_datetime(file['effective to date']) # extracting date-months from date\n",
    "\n",
    "#file.dtypes"
   ]
  },
  {
   "cell_type": "code",
   "execution_count": 16,
   "id": "9d03995f",
   "metadata": {},
   "outputs": [],
   "source": [
    "file['month'] = file['effective to date'].dt.month # extracting month from datetime\n",
    "#file\n",
    "\n",
    "#months_to_filter = [1, 2, 3]                          # filtering by months; januanry to March only\n",
    "#file[file['month'].isin(months_to_filter)]\n",
    "#file"
   ]
  },
  {
   "cell_type": "code",
   "execution_count": 17,
   "id": "eebc049b",
   "metadata": {},
   "outputs": [],
   "source": [
    "#file.rename(columns = lambda x: x.replace(\" \", \"_\")) # lambda function for camel naming"
   ]
  },
  {
   "cell_type": "code",
   "execution_count": 18,
   "id": "54035b4c",
   "metadata": {},
   "outputs": [],
   "source": [
    "def clean_data(file):\n",
    "    file.columns=[e.lower().replace(' ', '_') for e in file.columns]\n",
    "    #file=file.drop(columns=['unnamed: 0','vehicle_type'])\n",
    "    file=file.dropna()\n",
    "    file['effective_to_date']=pd.to_datetime(file['effective_to_date'], errors='coerce')\n",
    "    file['month'] = file['effective_to_date'].dt.month\n",
    "    return file"
   ]
  },
  {
   "cell_type": "code",
   "execution_count": 19,
   "id": "8c268438",
   "metadata": {},
   "outputs": [],
   "source": [
    "file1 = clean_data(file)"
   ]
  },
  {
   "cell_type": "code",
   "execution_count": 20,
   "id": "1fc06af3",
   "metadata": {},
   "outputs": [
    {
     "data": {
      "text/plain": [
       "(9134, 26)"
      ]
     },
     "execution_count": 20,
     "metadata": {},
     "output_type": "execute_result"
    }
   ],
   "source": [
    "file1.shape"
   ]
  },
  {
   "cell_type": "code",
   "execution_count": null,
   "id": "32a66573",
   "metadata": {},
   "outputs": [],
   "source": []
  },
  {
   "cell_type": "markdown",
   "id": "bbfef417",
   "metadata": {},
   "source": [
    "# Exploratory Data Anaiysis"
   ]
  },
  {
   "cell_type": "code",
   "execution_count": 21,
   "id": "5980c208",
   "metadata": {},
   "outputs": [
    {
     "data": {
      "text/html": [
       "<div>\n",
       "<style scoped>\n",
       "    .dataframe tbody tr th:only-of-type {\n",
       "        vertical-align: middle;\n",
       "    }\n",
       "\n",
       "    .dataframe tbody tr th {\n",
       "        vertical-align: top;\n",
       "    }\n",
       "\n",
       "    .dataframe thead th {\n",
       "        text-align: right;\n",
       "    }\n",
       "</style>\n",
       "<table border=\"1\" class=\"dataframe\">\n",
       "  <thead>\n",
       "    <tr style=\"text-align: right;\">\n",
       "      <th></th>\n",
       "      <th>customer</th>\n",
       "      <th>state</th>\n",
       "      <th>customer_lifetime_value</th>\n",
       "      <th>response</th>\n",
       "      <th>coverage</th>\n",
       "      <th>education</th>\n",
       "      <th>effective_to_date</th>\n",
       "      <th>employmentstatus</th>\n",
       "      <th>gender</th>\n",
       "      <th>income</th>\n",
       "      <th>...</th>\n",
       "      <th>number_of_policies</th>\n",
       "      <th>policy_type</th>\n",
       "      <th>policy</th>\n",
       "      <th>renew_offer_type</th>\n",
       "      <th>sales_channel</th>\n",
       "      <th>total_claim_amount</th>\n",
       "      <th>vehicle_class</th>\n",
       "      <th>vehicle_size</th>\n",
       "      <th>vehicle_type</th>\n",
       "      <th>month</th>\n",
       "    </tr>\n",
       "  </thead>\n",
       "  <tbody>\n",
       "    <tr>\n",
       "      <th>0</th>\n",
       "      <td>DK49336</td>\n",
       "      <td>Arizona</td>\n",
       "      <td>4809.216960</td>\n",
       "      <td>No</td>\n",
       "      <td>Basic</td>\n",
       "      <td>College</td>\n",
       "      <td>2011-02-18</td>\n",
       "      <td>Employed</td>\n",
       "      <td>M</td>\n",
       "      <td>48029</td>\n",
       "      <td>...</td>\n",
       "      <td>9</td>\n",
       "      <td>Corporate Auto</td>\n",
       "      <td>Corporate L3</td>\n",
       "      <td>Offer3</td>\n",
       "      <td>Agent</td>\n",
       "      <td>292.800000</td>\n",
       "      <td>Four-Door Car</td>\n",
       "      <td>Medsize</td>\n",
       "      <td>M</td>\n",
       "      <td>2</td>\n",
       "    </tr>\n",
       "    <tr>\n",
       "      <th>1</th>\n",
       "      <td>KX64629</td>\n",
       "      <td>California</td>\n",
       "      <td>2228.525238</td>\n",
       "      <td>No</td>\n",
       "      <td>Basic</td>\n",
       "      <td>College</td>\n",
       "      <td>2011-01-18</td>\n",
       "      <td>Unemployed</td>\n",
       "      <td>F</td>\n",
       "      <td>0</td>\n",
       "      <td>...</td>\n",
       "      <td>1</td>\n",
       "      <td>Personal Auto</td>\n",
       "      <td>Personal L3</td>\n",
       "      <td>Offer4</td>\n",
       "      <td>Call Center</td>\n",
       "      <td>744.924331</td>\n",
       "      <td>Four-Door Car</td>\n",
       "      <td>Medsize</td>\n",
       "      <td>M</td>\n",
       "      <td>1</td>\n",
       "    </tr>\n",
       "    <tr>\n",
       "      <th>2</th>\n",
       "      <td>LZ68649</td>\n",
       "      <td>Washington</td>\n",
       "      <td>14947.917300</td>\n",
       "      <td>No</td>\n",
       "      <td>Basic</td>\n",
       "      <td>Bachelor</td>\n",
       "      <td>2011-02-10</td>\n",
       "      <td>Employed</td>\n",
       "      <td>M</td>\n",
       "      <td>22139</td>\n",
       "      <td>...</td>\n",
       "      <td>2</td>\n",
       "      <td>Personal Auto</td>\n",
       "      <td>Personal L3</td>\n",
       "      <td>Offer3</td>\n",
       "      <td>Call Center</td>\n",
       "      <td>480.000000</td>\n",
       "      <td>SUV</td>\n",
       "      <td>Medsize</td>\n",
       "      <td>A</td>\n",
       "      <td>2</td>\n",
       "    </tr>\n",
       "    <tr>\n",
       "      <th>3</th>\n",
       "      <td>XL78013</td>\n",
       "      <td>Oregon</td>\n",
       "      <td>22332.439460</td>\n",
       "      <td>Yes</td>\n",
       "      <td>Extended</td>\n",
       "      <td>College</td>\n",
       "      <td>2011-01-11</td>\n",
       "      <td>Employed</td>\n",
       "      <td>M</td>\n",
       "      <td>49078</td>\n",
       "      <td>...</td>\n",
       "      <td>2</td>\n",
       "      <td>Corporate Auto</td>\n",
       "      <td>Corporate L3</td>\n",
       "      <td>Offer2</td>\n",
       "      <td>Branch</td>\n",
       "      <td>484.013411</td>\n",
       "      <td>Four-Door Car</td>\n",
       "      <td>Medsize</td>\n",
       "      <td>A</td>\n",
       "      <td>1</td>\n",
       "    </tr>\n",
       "    <tr>\n",
       "      <th>6</th>\n",
       "      <td>IW72280</td>\n",
       "      <td>California</td>\n",
       "      <td>5035.035257</td>\n",
       "      <td>No</td>\n",
       "      <td>Basic</td>\n",
       "      <td>Doctor</td>\n",
       "      <td>2011-02-14</td>\n",
       "      <td>Employed</td>\n",
       "      <td>F</td>\n",
       "      <td>37405</td>\n",
       "      <td>...</td>\n",
       "      <td>4</td>\n",
       "      <td>Corporate Auto</td>\n",
       "      <td>Corporate L2</td>\n",
       "      <td>Offer2</td>\n",
       "      <td>Branch</td>\n",
       "      <td>287.556107</td>\n",
       "      <td>Four-Door Car</td>\n",
       "      <td>Medsize</td>\n",
       "      <td>M</td>\n",
       "      <td>2</td>\n",
       "    </tr>\n",
       "  </tbody>\n",
       "</table>\n",
       "<p>5 rows × 26 columns</p>\n",
       "</div>"
      ],
      "text/plain": [
       "  customer       state  customer_lifetime_value response  coverage education   \n",
       "0  DK49336     Arizona              4809.216960       No     Basic   College  \\\n",
       "1  KX64629  California              2228.525238       No     Basic   College   \n",
       "2  LZ68649  Washington             14947.917300       No     Basic  Bachelor   \n",
       "3  XL78013      Oregon             22332.439460      Yes  Extended   College   \n",
       "6  IW72280  California              5035.035257       No     Basic    Doctor   \n",
       "\n",
       "  effective_to_date employmentstatus gender  income  ... number_of_policies   \n",
       "0        2011-02-18         Employed      M   48029  ...                  9  \\\n",
       "1        2011-01-18       Unemployed      F       0  ...                  1   \n",
       "2        2011-02-10         Employed      M   22139  ...                  2   \n",
       "3        2011-01-11         Employed      M   49078  ...                  2   \n",
       "6        2011-02-14         Employed      F   37405  ...                  4   \n",
       "\n",
       "      policy_type        policy  renew_offer_type  sales_channel   \n",
       "0  Corporate Auto  Corporate L3            Offer3          Agent  \\\n",
       "1   Personal Auto   Personal L3            Offer4    Call Center   \n",
       "2   Personal Auto   Personal L3            Offer3    Call Center   \n",
       "3  Corporate Auto  Corporate L3            Offer2         Branch   \n",
       "6  Corporate Auto  Corporate L2            Offer2         Branch   \n",
       "\n",
       "   total_claim_amount  vehicle_class vehicle_size vehicle_type month  \n",
       "0          292.800000  Four-Door Car      Medsize            M     2  \n",
       "1          744.924331  Four-Door Car      Medsize            M     1  \n",
       "2          480.000000            SUV      Medsize            A     2  \n",
       "3          484.013411  Four-Door Car      Medsize            A     1  \n",
       "6          287.556107  Four-Door Car      Medsize            M     2  \n",
       "\n",
       "[5 rows x 26 columns]"
      ]
     },
     "execution_count": 21,
     "metadata": {},
     "output_type": "execute_result"
    }
   ],
   "source": [
    "file1.head()"
   ]
  },
  {
   "cell_type": "code",
   "execution_count": 22,
   "id": "48b74b70",
   "metadata": {},
   "outputs": [
    {
     "data": {
      "image/png": "[encoded data removed]",
      "text/plain": [
       "<Figure size 640x480 with 1 Axes>"
      ]
     },
     "metadata": {},
     "output_type": "display_data"
    }
   ],
   "source": [
    "sns.countplot(x = 'response', data = file1) # response graph\n",
    "plt.ylabel('Total Humber of Responses')\n",
    "plt.show()"
   ]
  },
  {
   "cell_type": "code",
   "execution_count": 23,
   "id": "e3c4a604",
   "metadata": {},
   "outputs": [
    {
     "data": {
      "image/png": "[encoded data removed]",
      "text/plain": [
       "<Figure size 640x480 with 1 Axes>"
      ]
     },
     "metadata": {},
     "output_type": "display_data"
    }
   ],
   "source": [
    "sns.countplot(x = 'sales_channel', hue = 'response', data = file1) # response by total sales amount\n",
    "plt.ylabel('Total Number of Responses')\n",
    "plt.xlabel('sales channels')\n",
    "plt.legend(title = 'response')\n",
    "plt.title('Response Rate by Sales Channel')\n",
    "plt.show()"
   ]
  },
  {
   "cell_type": "code",
   "execution_count": null,
   "id": "7dff05ad",
   "metadata": {},
   "outputs": [],
   "source": [
    "sns.countplot(x = 'total_claim_amount', hue = 'response', data = file1) # response by total claim amount\n",
    "plt.ylabel('Responses')\n",
    "plt.xlabel('Total Claim Amount')\n",
    "plt.legend(title = 'response')\n",
    "plt.title('Response Rate by Total Claim Amount')\n",
    "plt.show()"
   ]
  },
  {
   "cell_type": "code",
   "execution_count": null,
   "id": "32611b8a",
   "metadata": {},
   "outputs": [],
   "source": [
    "sns.countplot(x = 'income', hue = 'response', data = file1) # response by income is refusing to present a good result\n",
    "plt.ylabel('Responses')\n",
    "plt.xlabel('Income')\n",
    "plt.legend(title = 'response')\n",
    "plt.title('Response Rate by Income')\n",
    "plt.show()"
   ]
  },
  {
   "cell_type": "code",
   "execution_count": null,
   "id": "20456aff",
   "metadata": {},
   "outputs": [],
   "source": []
  },
  {
   "cell_type": "markdown",
   "id": "c43ea3f6",
   "metadata": {},
   "source": [
    "# Checking The Normality of the Data"
   ]
  },
  {
   "cell_type": "code",
   "execution_count": null,
   "id": "9e397e77",
   "metadata": {},
   "outputs": [],
   "source": [
    "file1.dtypes  "
   ]
  },
  {
   "cell_type": "code",
   "execution_count": null,
   "id": "7d9d9ce7",
   "metadata": {},
   "outputs": [],
   "source": [
    "numerical = file1.select_dtypes(np.number) # extracting numerical data from the main data for analyses\n",
    "#numerical"
   ]
  },
  {
   "cell_type": "code",
   "execution_count": null,
   "id": "3f7ad880",
   "metadata": {},
   "outputs": [],
   "source": [
    "categorical = file1.select_dtypes(object)     # extracting categorical data\n",
    "#categorical"
   ]
  },
  {
   "cell_type": "code",
   "execution_count": null,
   "id": "d6897f2f",
   "metadata": {},
   "outputs": [],
   "source": [
    "numerical.describe().T # transposing the data for further analyses especially with respect to correlation "
   ]
  },
  {
   "cell_type": "code",
   "execution_count": null,
   "id": "209e40f1",
   "metadata": {},
   "outputs": [],
   "source": [
    "numerical.head()   # headings of the numerical data"
   ]
  },
  {
   "cell_type": "code",
   "execution_count": null,
   "id": "5ffe75c2",
   "metadata": {},
   "outputs": [],
   "source": [
    "sns.displot(numerical['customer_lifetime_value']) # distribution graph for 'Customer Lifetime Value' in view of the presence of errors\n",
    "plt.show()"
   ]
  },
  {
   "cell_type": "code",
   "execution_count": null,
   "id": "d529e1fa",
   "metadata": {},
   "outputs": [],
   "source": [
    "sns.displot(numerical['total_claim_amount'])    # distribution for 'Total Claim Amount'\n",
    "plt.show()"
   ]
  },
  {
   "cell_type": "code",
   "execution_count": null,
   "id": "bd4b55f9",
   "metadata": {},
   "outputs": [],
   "source": [
    "sns.displot(numerical[\"monthly_premium_auto\"]) # distribution for 'Monthly Premium Auto'\n",
    "plt.show"
   ]
  },
  {
   "cell_type": "code",
   "execution_count": null,
   "id": "75c1bf87",
   "metadata": {},
   "outputs": [],
   "source": [
    "numerical['customer_lifetime_value'].hist()      # histogrm for 'Customer Lifetime Value'\n",
    "plt.show()"
   ]
  },
  {
   "cell_type": "code",
   "execution_count": null,
   "id": "ea6810dc",
   "metadata": {},
   "outputs": [],
   "source": [
    "numerical[\"total_claim_amount\"].hist()                    # histogrm for 'Total Claim Amount'\n",
    "plt.show"
   ]
  },
  {
   "cell_type": "code",
   "execution_count": null,
   "id": "1387e42c",
   "metadata": {},
   "outputs": [],
   "source": [
    "sns.boxplot(x=numerical['customer_lifetime_value'])  # boxplot for the assessment of errors in the data using the upper and lower limits as thresholds for determining outliers\n",
    "plt.show()"
   ]
  },
  {
   "cell_type": "code",
   "execution_count": null,
   "id": "d5d3b5ed",
   "metadata": {},
   "outputs": [],
   "source": [
    "iqr = np.percentile(numerical['customer_lifetime_value'],75) - np.percentile(numerical['customer_lifetime_value'],25)\n",
    "upper_limit = np.percentile(numerical['customer_lifetime_value'],75) + 0.44*iqr\n",
    "lower_limit = np.percentile(numerical['customer_lifetime_value'],25) - 0.00045*iqr # finding upper and lower limits to used in refining the results"
   ]
  },
  {
   "cell_type": "code",
   "execution_count": null,
   "id": "e7a011b7",
   "metadata": {},
   "outputs": [],
   "source": [
    "iqr"
   ]
  },
  {
   "cell_type": "code",
   "execution_count": null,
   "id": "0f8694ba",
   "metadata": {},
   "outputs": [],
   "source": [
    "upper_limit"
   ]
  },
  {
   "cell_type": "code",
   "execution_count": null,
   "id": "3f0f4c9e",
   "metadata": {},
   "outputs": [],
   "source": [
    "lower_limit"
   ]
  },
  {
   "cell_type": "code",
   "execution_count": null,
   "id": "1459c3a7",
   "metadata": {},
   "outputs": [],
   "source": [
    "numerical1 = numerical[(numerical['customer_lifetime_value']>lower_limit) & (numerical['customer_lifetime_value']<upper_limit)].copy()\n",
    "sns.displot(numerical1['customer_lifetime_value'])\n",
    "plt.show()   # applying the result to determine if the data can is normally distributed after cleaning; but not so good"
   ]
  },
  {
   "cell_type": "code",
   "execution_count": null,
   "id": "87b9ee7c",
   "metadata": {},
   "outputs": [],
   "source": [
    "sns.boxplot(x=numerical['total_claim_amount'])    # boxplot for 'Total Claim Amount'\n",
    "plt.show()"
   ]
  },
  {
   "cell_type": "code",
   "execution_count": null,
   "id": "0f406675",
   "metadata": {},
   "outputs": [],
   "source": [
    "iqr = np.percentile(numerical['total_claim_amount'],75) - np.percentile(numerical['total_claim_amount'],25)\n",
    "upper_limit = np.percentile(numerical['total_claim_amount'],75) + 0.9*iqr\n",
    "lower_limit = np.percentile(numerical['total_claim_amount'],25) - 0.51*iqr   # same as above, but for 'Total Claim Amount'"
   ]
  },
  {
   "cell_type": "raw",
   "id": "607bff55",
   "metadata": {},
   "source": [
    "iqr"
   ]
  },
  {
   "cell_type": "code",
   "execution_count": null,
   "id": "df5f4aa2",
   "metadata": {},
   "outputs": [],
   "source": [
    "upper_limit"
   ]
  },
  {
   "cell_type": "code",
   "execution_count": null,
   "id": "d11b595b",
   "metadata": {},
   "outputs": [],
   "source": [
    "lower_limit"
   ]
  },
  {
   "cell_type": "code",
   "execution_count": null,
   "id": "7e39c43c",
   "metadata": {},
   "outputs": [],
   "source": [
    "numerical1 = numerical[(numerical['total_claim_amount']>lower_limit) & (numerical['total_claim_amount']<upper_limit)].copy()\n",
    "sns.displot(numerical1['total_claim_amount'])   # normality not so good\n",
    "plt.show()"
   ]
  },
  {
   "cell_type": "code",
   "execution_count": null,
   "id": "5a16e846",
   "metadata": {},
   "outputs": [],
   "source": [
    "numerical1 = numerical.drop(\"total_claim_amount\", axis = 1) # 'Total Claim Amount' dropped from DataFrame in order to use only the features alone for further nalyses and prediction\n",
    "numerical1"
   ]
  },
  {
   "cell_type": "code",
   "execution_count": null,
   "id": "ecfafab3",
   "metadata": {},
   "outputs": [],
   "source": [
    "correlations_matrix = numerical1.corr()     # correlation matrix to see pairs that influence each other\n",
    "correlations_matrix"
   ]
  },
  {
   "cell_type": "code",
   "execution_count": null,
   "id": "288f1f2e",
   "metadata": {},
   "outputs": [],
   "source": [
    "sns.heatmap(correlations_matrix, annot=True) # heat map using colours to show level of correlation. with black showing the least correlated pairs. Correlation here is very low for all except self correlated pairs \n",
    "plt.show()"
   ]
  },
  {
   "cell_type": "code",
   "execution_count": null,
   "id": "53cc9230",
   "metadata": {},
   "outputs": [],
   "source": []
  },
  {
   "cell_type": "markdown",
   "id": "f1a914c1",
   "metadata": {},
   "source": [
    "# Splitting and Scaling the Data"
   ]
  },
  {
   "cell_type": "code",
   "execution_count": 283,
   "id": "49b420c8",
   "metadata": {},
   "outputs": [],
   "source": [
    "import math\n",
    "from sklearn import linear_model\n",
    "from sklearn.preprocessing import MinMaxScaler # # importing libraries for trnaformation\n",
    "from sklearn.preprocessing import StandardScaler"
   ]
  },
  {
   "cell_type": "code",
   "execution_count": null,
   "id": "74a45f73",
   "metadata": {},
   "outputs": [],
   "source": []
  },
  {
   "cell_type": "code",
   "execution_count": 284,
   "id": "d9955582",
   "metadata": {},
   "outputs": [],
   "source": [
    "y = numerical['total_claim_amount']                       #splitting X and y\n",
    "X = numerical.drop(['total_claim_amount'], axis=1)\n",
    "#X.fillna(0, inplace = True)\n",
    "X_num = X.select_dtypes(include = np.number)\n",
    "X_cat = categorical.select_dtypes(include = object) "
   ]
  },
  {
   "cell_type": "code",
   "execution_count": null,
   "id": "c842bba8",
   "metadata": {},
   "outputs": [],
   "source": []
  },
  {
   "cell_type": "markdown",
   "id": "5e8f212e",
   "metadata": {},
   "source": [
    "# Using an Alternative Transformer (Standard SCaler)"
   ]
  },
  {
   "cell_type": "code",
   "execution_count": 285,
   "id": "c09dba1d",
   "metadata": {},
   "outputs": [
    {
     "name": "stdout",
     "output_type": "stream",
     "text": [
      "(9134, 8)\n"
     ]
    }
   ],
   "source": [
    "#transformer = MinMaxScaler().fit(X_num) # normalising numerical\n",
    "#x_normalized = transformer.transform(X_num)\n",
    "#print(x_normalized.shape)\n",
    "#x_normalized = pd.DataFrame(x_normalized, columns=X_num.columns)\n",
    "#X = x_normalized"
   ]
  },
  {
   "cell_type": "code",
   "execution_count": null,
   "id": "cc756853",
   "metadata": {},
   "outputs": [],
   "source": [
    "transformer = StandardScaler().fit(X_num) # alternative method for normalising the data\n",
    "x_standardized = transformer.transform(X_num)\n",
    "print(x_standardized.shape)\n",
    "pd.DataFrame(x_standardized, columns=X_num.columns)"
   ]
  },
  {
   "cell_type": "code",
   "execution_count": null,
   "id": "dc4ffde0",
   "metadata": {},
   "outputs": [],
   "source": [
    "pd.DataFrame(x_standardized, columns=X_num.columns).describe().T"
   ]
  },
  {
   "cell_type": "markdown",
   "id": "f6384446",
   "metadata": {},
   "source": [
    "# Applying the Linear Regression Model and Error Analysis"
   ]
  },
  {
   "cell_type": "code",
   "execution_count": 286,
   "id": "5b3fbd73",
   "metadata": {},
   "outputs": [
    {
     "name": "stdout",
     "output_type": "stream",
     "text": [
      "(7307, 8)\n",
      "(1827, 8)\n",
      "(7307,)\n",
      "(1827,)\n"
     ]
    }
   ],
   "source": [
    "import matplotlib.pyplot as pls\n",
    "from sklearn.model_selection import train_test_split\n",
    "X = x_normalized\n",
    "X_train, X_test, y_train, y_test = train_test_split(X, y, test_size=0.2, random_state=42)\n",
    "\n",
    "print(X_train.shape)\n",
    "print(X_test.shape)\n",
    "print(y_train.shape)\n",
    "print(y_test.shape)"
   ]
  },
  {
   "cell_type": "code",
   "execution_count": 287,
   "id": "7a579b6f",
   "metadata": {},
   "outputs": [
    {
     "data": {
      "text/html": [
       "<div>\n",
       "<style scoped>\n",
       "    .dataframe tbody tr th:only-of-type {\n",
       "        vertical-align: middle;\n",
       "    }\n",
       "\n",
       "    .dataframe tbody tr th {\n",
       "        vertical-align: top;\n",
       "    }\n",
       "\n",
       "    .dataframe thead th {\n",
       "        text-align: right;\n",
       "    }\n",
       "</style>\n",
       "<table border=\"1\" class=\"dataframe\">\n",
       "  <thead>\n",
       "    <tr style=\"text-align: right;\">\n",
       "      <th></th>\n",
       "      <th>customer_lifetime_value</th>\n",
       "      <th>income</th>\n",
       "      <th>monthly_premium_auto</th>\n",
       "      <th>months_since_last_claim</th>\n",
       "      <th>months_since_policy_inception</th>\n",
       "      <th>number_of_open_complaints</th>\n",
       "      <th>number_of_policies</th>\n",
       "      <th>month</th>\n",
       "    </tr>\n",
       "  </thead>\n",
       "  <tbody>\n",
       "    <tr>\n",
       "      <th>5123</th>\n",
       "      <td>0.009354</td>\n",
       "      <td>0.000000</td>\n",
       "      <td>0.109705</td>\n",
       "      <td>0.114286</td>\n",
       "      <td>0.040404</td>\n",
       "      <td>0.6</td>\n",
       "      <td>0.000</td>\n",
       "      <td>1.0</td>\n",
       "    </tr>\n",
       "    <tr>\n",
       "      <th>7738</th>\n",
       "      <td>0.075385</td>\n",
       "      <td>0.000000</td>\n",
       "      <td>0.215190</td>\n",
       "      <td>0.200000</td>\n",
       "      <td>0.424242</td>\n",
       "      <td>0.0</td>\n",
       "      <td>1.000</td>\n",
       "      <td>1.0</td>\n",
       "    </tr>\n",
       "    <tr>\n",
       "      <th>214</th>\n",
       "      <td>0.044826</td>\n",
       "      <td>0.678109</td>\n",
       "      <td>0.033755</td>\n",
       "      <td>0.028571</td>\n",
       "      <td>0.787879</td>\n",
       "      <td>0.0</td>\n",
       "      <td>1.000</td>\n",
       "      <td>0.0</td>\n",
       "    </tr>\n",
       "    <tr>\n",
       "      <th>8580</th>\n",
       "      <td>0.138773</td>\n",
       "      <td>0.000000</td>\n",
       "      <td>0.029536</td>\n",
       "      <td>0.542857</td>\n",
       "      <td>0.020202</td>\n",
       "      <td>0.6</td>\n",
       "      <td>0.125</td>\n",
       "      <td>0.0</td>\n",
       "    </tr>\n",
       "    <tr>\n",
       "      <th>7857</th>\n",
       "      <td>0.071306</td>\n",
       "      <td>0.490973</td>\n",
       "      <td>0.151899</td>\n",
       "      <td>0.114286</td>\n",
       "      <td>0.464646</td>\n",
       "      <td>0.0</td>\n",
       "      <td>0.250</td>\n",
       "      <td>1.0</td>\n",
       "    </tr>\n",
       "  </tbody>\n",
       "</table>\n",
       "</div>"
      ],
      "text/plain": [
       "      customer_lifetime_value    income  monthly_premium_auto   \n",
       "5123                 0.009354  0.000000              0.109705  \\\n",
       "7738                 0.075385  0.000000              0.215190   \n",
       "214                  0.044826  0.678109              0.033755   \n",
       "8580                 0.138773  0.000000              0.029536   \n",
       "7857                 0.071306  0.490973              0.151899   \n",
       "\n",
       "      months_since_last_claim  months_since_policy_inception   \n",
       "5123                 0.114286                       0.040404  \\\n",
       "7738                 0.200000                       0.424242   \n",
       "214                  0.028571                       0.787879   \n",
       "8580                 0.542857                       0.020202   \n",
       "7857                 0.114286                       0.464646   \n",
       "\n",
       "      number_of_open_complaints  number_of_policies  month  \n",
       "5123                        0.6               0.000    1.0  \n",
       "7738                        0.0               1.000    1.0  \n",
       "214                         0.0               1.000    0.0  \n",
       "8580                        0.6               0.125    0.0  \n",
       "7857                        0.0               0.250    1.0  "
      ]
     },
     "execution_count": 287,
     "metadata": {},
     "output_type": "execute_result"
    }
   ],
   "source": [
    "X_train.head()\n"
   ]
  },
  {
   "cell_type": "code",
   "execution_count": 288,
   "id": "153d3cd5",
   "metadata": {},
   "outputs": [
    {
     "data": {
      "text/plain": [
       "6178     420.041981\n",
       "9264     806.400000\n",
       "249      331.200000\n",
       "10256    326.400000\n",
       "9402     698.400000\n",
       "Name: total_claim_amount, dtype: float64"
      ]
     },
     "execution_count": 288,
     "metadata": {},
     "output_type": "execute_result"
    }
   ],
   "source": [
    "y_train.head()"
   ]
  },
  {
   "cell_type": "code",
   "execution_count": 289,
   "id": "33cab59a",
   "metadata": {},
   "outputs": [
    {
     "data": {
      "text/html": [
       "<style>#sk-container-id-5 {color: black;background-color: white;}#sk-container-id-5 pre{padding: 0;}#sk-container-id-5 div.sk-toggleable {background-color: white;}#sk-container-id-5 label.sk-toggleable__label {cursor: pointer;display: block;width: 100%;margin-bottom: 0;padding: 0.3em;box-sizing: border-box;text-align: center;}#sk-container-id-5 label.sk-toggleable__label-arrow:before {content: \"▸\";float: left;margin-right: 0.25em;color: #696969;}#sk-container-id-5 label.sk-toggleable__label-arrow:hover:before {color: black;}#sk-container-id-5 div.sk-estimator:hover label.sk-toggleable__label-arrow:before {color: black;}#sk-container-id-5 div.sk-toggleable__content {max-height: 0;max-width: 0;overflow: hidden;text-align: left;background-color: #f0f8ff;}#sk-container-id-5 div.sk-toggleable__content pre {margin: 0.2em;color: black;border-radius: 0.25em;background-color: #f0f8ff;}#sk-container-id-5 input.sk-toggleable__control:checked~div.sk-toggleable__content {max-height: 200px;max-width: 100%;overflow: auto;}#sk-container-id-5 input.sk-toggleable__control:checked~label.sk-toggleable__label-arrow:before {content: \"▾\";}#sk-container-id-5 div.sk-estimator input.sk-toggleable__control:checked~label.sk-toggleable__label {background-color: #d4ebff;}#sk-container-id-5 div.sk-label input.sk-toggleable__control:checked~label.sk-toggleable__label {background-color: #d4ebff;}#sk-container-id-5 input.sk-hidden--visually {border: 0;clip: rect(1px 1px 1px 1px);clip: rect(1px, 1px, 1px, 1px);height: 1px;margin: -1px;overflow: hidden;padding: 0;position: absolute;width: 1px;}#sk-container-id-5 div.sk-estimator {font-family: monospace;background-color: #f0f8ff;border: 1px dotted black;border-radius: 0.25em;box-sizing: border-box;margin-bottom: 0.5em;}#sk-container-id-5 div.sk-estimator:hover {background-color: #d4ebff;}#sk-container-id-5 div.sk-parallel-item::after {content: \"\";width: 100%;border-bottom: 1px solid gray;flex-grow: 1;}#sk-container-id-5 div.sk-label:hover label.sk-toggleable__label {background-color: #d4ebff;}#sk-container-id-5 div.sk-serial::before {content: \"\";position: absolute;border-left: 1px solid gray;box-sizing: border-box;top: 0;bottom: 0;left: 50%;z-index: 0;}#sk-container-id-5 div.sk-serial {display: flex;flex-direction: column;align-items: center;background-color: white;padding-right: 0.2em;padding-left: 0.2em;position: relative;}#sk-container-id-5 div.sk-item {position: relative;z-index: 1;}#sk-container-id-5 div.sk-parallel {display: flex;align-items: stretch;justify-content: center;background-color: white;position: relative;}#sk-container-id-5 div.sk-item::before, #sk-container-id-5 div.sk-parallel-item::before {content: \"\";position: absolute;border-left: 1px solid gray;box-sizing: border-box;top: 0;bottom: 0;left: 50%;z-index: -1;}#sk-container-id-5 div.sk-parallel-item {display: flex;flex-direction: column;z-index: 1;position: relative;background-color: white;}#sk-container-id-5 div.sk-parallel-item:first-child::after {align-self: flex-end;width: 50%;}#sk-container-id-5 div.sk-parallel-item:last-child::after {align-self: flex-start;width: 50%;}#sk-container-id-5 div.sk-parallel-item:only-child::after {width: 0;}#sk-container-id-5 div.sk-dashed-wrapped {border: 1px dashed gray;margin: 0 0.4em 0.5em 0.4em;box-sizing: border-box;padding-bottom: 0.4em;background-color: white;}#sk-container-id-5 div.sk-label label {font-family: monospace;font-weight: bold;display: inline-block;line-height: 1.2em;}#sk-container-id-5 div.sk-label-container {text-align: center;}#sk-container-id-5 div.sk-container {/* jupyter's `normalize.less` sets `[hidden] { display: none; }` but bootstrap.min.css set `[hidden] { display: none !important; }` so we also need the `!important` here to be able to override the default hidden behavior on the sphinx rendered scikit-learn.org. See: https://github.com/scikit-learn/scikit-learn/issues/21755 */display: inline-block !important;position: relative;}#sk-container-id-5 div.sk-text-repr-fallback {display: none;}</style><div id=\"sk-container-id-5\" class=\"sk-top-container\"><div class=\"sk-text-repr-fallback\"><pre>LinearRegression()</pre><b>In a Jupyter environment, please rerun this cell to show the HTML representation or trust the notebook. <br />On GitHub, the HTML representation is unable to render, please try loading this page with nbviewer.org.</b></div><div class=\"sk-container\" hidden><div class=\"sk-item\"><div class=\"sk-estimator sk-toggleable\"><input class=\"sk-toggleable__control sk-hidden--visually\" id=\"sk-estimator-id-5\" type=\"checkbox\" checked><label for=\"sk-estimator-id-5\" class=\"sk-toggleable__label sk-toggleable__label-arrow\">LinearRegression</label><div class=\"sk-toggleable__content\"><pre>LinearRegression()</pre></div></div></div></div></div>"
      ],
      "text/plain": [
       "LinearRegression()"
      ]
     },
     "execution_count": 289,
     "metadata": {},
     "output_type": "execute_result"
    }
   ],
   "source": [
    "lm = linear_model.LinearRegression()\n",
    "lm.fit(X_train,y_train)"
   ]
  },
  {
   "cell_type": "code",
   "execution_count": 290,
   "id": "646e5b45",
   "metadata": {},
   "outputs": [
    {
     "data": {
      "text/plain": [
       "0.516867826257084"
      ]
     },
     "execution_count": 290,
     "metadata": {},
     "output_type": "execute_result"
    }
   ],
   "source": [
    "from sklearn.metrics import r2_score\n",
    "predictions = lm.predict(X_train)\n",
    "r2_score(y_train, predictions)"
   ]
  },
  {
   "cell_type": "code",
   "execution_count": 291,
   "id": "a3ba24bd",
   "metadata": {},
   "outputs": [
    {
     "data": {
      "text/plain": [
       "0.5252027824807132"
      ]
     },
     "execution_count": 291,
     "metadata": {},
     "output_type": "execute_result"
    }
   ],
   "source": [
    "predictions_test = lm.predict(X_test)\n",
    "r2_score(y_test, predictions_test)"
   ]
  },
  {
   "cell_type": "code",
   "execution_count": 292,
   "id": "ebb8917b",
   "metadata": {},
   "outputs": [
    {
     "data": {
      "text/plain": [
       "855     456.523850\n",
       "52      406.902001\n",
       "4816    128.516525\n",
       "1844    110.868874\n",
       "4457    106.737787\n",
       "Name: total_claim_amount, dtype: float64"
      ]
     },
     "execution_count": 292,
     "metadata": {},
     "output_type": "execute_result"
    }
   ],
   "source": [
    "y_test[:5]"
   ]
  },
  {
   "cell_type": "code",
   "execution_count": 293,
   "id": "dc785dae",
   "metadata": {},
   "outputs": [
    {
     "data": {
      "text/plain": [
       "array([641.95033463, 226.06387698, 158.61981457, 167.6232704 ,\n",
       "       195.79559224])"
      ]
     },
     "execution_count": 293,
     "metadata": {},
     "output_type": "execute_result"
    }
   ],
   "source": [
    "predictions_test[:5]"
   ]
  },
  {
   "cell_type": "code",
   "execution_count": 294,
   "id": "18665b4b",
   "metadata": {},
   "outputs": [],
   "source": [
    "from sklearn.metrics import mean_absolute_error, r2_score\n",
    "from sklearn.metrics import mean_squared_error\n"
   ]
  },
  {
   "cell_type": "code",
   "execution_count": 295,
   "id": "1a558c37",
   "metadata": {},
   "outputs": [
    {
     "data": {
      "text/plain": [
       "41505.64468833259"
      ]
     },
     "execution_count": 295,
     "metadata": {},
     "output_type": "execute_result"
    }
   ],
   "source": [
    "mse=mean_squared_error(y_test,predictions_test)\n",
    "mse"
   ]
  },
  {
   "cell_type": "code",
   "execution_count": 296,
   "id": "00871ad7",
   "metadata": {},
   "outputs": [
    {
     "data": {
      "text/plain": [
       "203.72934174618194"
      ]
     },
     "execution_count": 296,
     "metadata": {},
     "output_type": "execute_result"
    }
   ],
   "source": [
    "rmse = np.sqrt(mean_squared_error(y_test,predictions_test))\n",
    "rmse"
   ]
  },
  {
   "cell_type": "code",
   "execution_count": 297,
   "id": "a52bef21",
   "metadata": {},
   "outputs": [
    {
     "name": "stdout",
     "output_type": "stream",
     "text": [
      "145.23226543362972\n"
     ]
    }
   ],
   "source": [
    "mae = mean_absolute_error(y_test, predictions_test)\n",
    "print(mae)"
   ]
  },
  {
   "cell_type": "code",
   "execution_count": 298,
   "id": "69ba1a84",
   "metadata": {},
   "outputs": [
    {
     "data": {
      "text/plain": [
       "0.5252027824807132"
      ]
     },
     "execution_count": 298,
     "metadata": {},
     "output_type": "execute_result"
    }
   ],
   "source": [
    "r2 = r2_score(y_test, predictions_test)\n",
    "r2"
   ]
  },
  {
   "cell_type": "markdown",
   "id": "6a0232e8",
   "metadata": {},
   "source": [
    "# Applying the Log Transform on the Test and Getting the New Error Logs"
   ]
  },
  {
   "cell_type": "code",
   "execution_count": 299,
   "id": "29fc84e8",
   "metadata": {},
   "outputs": [
    {
     "data": {
      "text/plain": [
       "855      6.123641\n",
       "52       6.008572\n",
       "4816     4.856057\n",
       "1844     4.708348\n",
       "4457     4.670375\n",
       "           ...   \n",
       "5848     4.873480\n",
       "2284     6.432875\n",
       "10134    6.616947\n",
       "7190     6.178774\n",
       "9537     5.758831\n",
       "Name: total_claim_amount, Length: 1827, dtype: float64"
      ]
     },
     "execution_count": 299,
     "metadata": {},
     "output_type": "execute_result"
    }
   ],
   "source": [
    "y_test_log = np.log(y_test)\n",
    "y_test_log"
   ]
  },
  {
   "cell_type": "code",
   "execution_count": 300,
   "id": "2bf82554",
   "metadata": {},
   "outputs": [
    {
     "data": {
      "text/plain": [
       "array([6.46451094, 5.4208176 , 5.06651024, ..., 6.49128561, 5.77381414,\n",
       "       4.90233744])"
      ]
     },
     "execution_count": 300,
     "metadata": {},
     "output_type": "execute_result"
    }
   ],
   "source": [
    "y_pred_log = np.log(predictions_test)   # log transform\n",
    "y_pred_log"
   ]
  },
  {
   "cell_type": "code",
   "execution_count": 301,
   "id": "e44ce664",
   "metadata": {},
   "outputs": [
    {
     "data": {
      "text/plain": [
       "0.6945575865770068"
      ]
     },
     "execution_count": 301,
     "metadata": {},
     "output_type": "execute_result"
    }
   ],
   "source": [
    "mse=mean_squared_error(y_test_log, y_pred_log) \n",
    "mse"
   ]
  },
  {
   "cell_type": "code",
   "execution_count": 302,
   "id": "ab43ab26",
   "metadata": {},
   "outputs": [
    {
     "data": {
      "text/plain": [
       "0.8334012158480493"
      ]
     },
     "execution_count": 302,
     "metadata": {},
     "output_type": "execute_result"
    }
   ],
   "source": [
    "rmse = np.sqrt(mean_squared_error(y_test_log, y_pred_log))\n",
    "rmse"
   ]
  },
  {
   "cell_type": "code",
   "execution_count": 303,
   "id": "50b0ee36",
   "metadata": {},
   "outputs": [
    {
     "name": "stdout",
     "output_type": "stream",
     "text": [
      "0.4934145001024913\n"
     ]
    }
   ],
   "source": [
    "mae = mean_absolute_error(y_test_log, y_pred_log)\n",
    "print(mae)"
   ]
  },
  {
   "cell_type": "code",
   "execution_count": 304,
   "id": "830678f4",
   "metadata": {},
   "outputs": [
    {
     "data": {
      "text/plain": [
       "0.19903570408682925"
      ]
     },
     "execution_count": 304,
     "metadata": {},
     "output_type": "execute_result"
    }
   ],
   "source": [
    "r2 = r2_score(y_test_log, y_pred_log)\n",
    "r2"
   ]
  },
  {
   "cell_type": "code",
   "execution_count": null,
   "id": "99e4b172",
   "metadata": {},
   "outputs": [],
   "source": []
  }
 ],
 "metadata": {
  "kernelspec": {
   "display_name": "Python 3 (ipykernel)",
   "language": "python",
   "name": "python3"
  },
  "language_info": {
   "codemirror_mode": {
    "name": "ipython",
    "version": 3
   },
   "file_extension": ".py",
   "mimetype": "text/x-python",
   "name": "python",
   "nbconvert_exporter": "python",
   "pygments_lexer": "ipython3",
   "version": "3.11.3"
  }
 },
 "nbformat": 4,
 "nbformat_minor": 5
}

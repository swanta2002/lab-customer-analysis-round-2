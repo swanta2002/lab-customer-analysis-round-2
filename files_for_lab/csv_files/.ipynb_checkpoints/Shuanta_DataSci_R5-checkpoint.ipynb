{
 "cells": [
  {
   "cell_type": "code",
   "execution_count": 151,
   "id": "b7ab993b",
   "metadata": {},
   "outputs": [],
   "source": [
    "import pandas as pd                       # importing modules\n",
    "import numpy as np\n",
    "import matplotlib.pyplot as plt\n",
    "import seaborn as sns"
   ]
  },
  {
   "cell_type": "code",
   "execution_count": 152,
   "id": "2fffb4d0",
   "metadata": {},
   "outputs": [],
   "source": [
    "file = pd.read_csv(\"marketing_customer_analysis.csv\") # readind the data for onward analyses\n",
    "#file"
   ]
  },
  {
   "cell_type": "code",
   "execution_count": null,
   "id": "801636ca",
   "metadata": {},
   "outputs": [],
   "source": []
  },
  {
   "cell_type": "code",
   "execution_count": null,
   "id": "c0cde831",
   "metadata": {},
   "outputs": [],
   "source": []
  },
  {
   "cell_type": "code",
   "execution_count": 153,
   "id": "ffb8d76c",
   "metadata": {},
   "outputs": [],
   "source": [
    "#file.dtypes             # checking the data types to see list of objects and numeric values for insight"
   ]
  },
  {
   "cell_type": "code",
   "execution_count": 154,
   "id": "491772d7",
   "metadata": {},
   "outputs": [],
   "source": [
    "numerical = file.select_dtypes(np.number) # extracting numerical data from the main data for analyses\n",
    "#numerical"
   ]
  },
  {
   "cell_type": "code",
   "execution_count": null,
   "id": "95620acd",
   "metadata": {},
   "outputs": [],
   "source": []
  },
  {
   "cell_type": "code",
   "execution_count": 155,
   "id": "35236d6d",
   "metadata": {},
   "outputs": [
    {
     "name": "stdout",
     "output_type": "stream",
     "text": [
      "Unnamed: 0                       False\n",
      "Customer Lifetime Value          False\n",
      "Income                           False\n",
      "Monthly Premium Auto             False\n",
      "Months Since Last Claim           True\n",
      "Months Since Policy Inception    False\n",
      "Number of Open Complaints         True\n",
      "Number of Policies               False\n",
      "Total Claim Amount               False\n",
      "dtype: bool\n"
     ]
    }
   ],
   "source": [
    "#xxxxx = numerical.columns[numerical.isna().any()].tolist()\n",
    "print(numerical.isna().any())"
   ]
  },
  {
   "cell_type": "code",
   "execution_count": null,
   "id": "e316b6f9",
   "metadata": {},
   "outputs": [],
   "source": []
  },
  {
   "cell_type": "code",
   "execution_count": 156,
   "id": "108ddb6e",
   "metadata": {
    "scrolled": false
   },
   "outputs": [
    {
     "name": "stdout",
     "output_type": "stream",
     "text": [
      "Unnamed: 0                       False\n",
      "Customer Lifetime Value          False\n",
      "Income                           False\n",
      "Monthly Premium Auto             False\n",
      "Months Since Last Claim           True\n",
      "Months Since Policy Inception    False\n",
      "Number of Open Complaints         True\n",
      "Number of Policies               False\n",
      "Total Claim Amount               False\n",
      "dtype: bool\n"
     ]
    }
   ],
   "source": [
    "print(numerical.isnull().any())"
   ]
  },
  {
   "cell_type": "code",
   "execution_count": 157,
   "id": "86529d35",
   "metadata": {
    "scrolled": true
   },
   "outputs": [],
   "source": [
    "#mean_income = numerical['Income'].mean()\n",
    "#numerical['Income'] = numerical['Income'].replace(0, numerical['Income'].mean())\n",
    "#numerical['Number of Open Complaints'] = numerical['Number of Open Complaints'].replace(0, numerical['Number of Open Complaints'].mean())\n",
    "#numerical['Months Since Last Claim'] = numerical['Months Since Last Claim'].replace(0, numerical['Months Since Last Claim'].mean())\n",
    "#numerical['Months Since Policy Inception'] = numerical['Months Since Policy Inception'].replace(0, numerical['Months Since Policy Inception'].mean())\n",
    "#numerical['Unnamed: 0'] = numerical['Unnamed: 0'].replace(0, numerical['Unnamed: 0'].mean())\n",
    "#numerical = numerical.drop('Income', axis = 1)\n",
    "#numerical = numerical.drop('Months Since Policy Inception', axis = 1)\n",
    "#numerical = numerical.drop('Customer Lifetime Value', axis = 1)\n",
    "#numerical = numerical.drop('Months Since Last Claim', axis = 1)"
   ]
  },
  {
   "cell_type": "code",
   "execution_count": null,
   "id": "d46a9031",
   "metadata": {},
   "outputs": [],
   "source": []
  },
  {
   "cell_type": "code",
   "execution_count": 158,
   "id": "31523225",
   "metadata": {},
   "outputs": [],
   "source": [
    "#numerical['Unnamed: 0 '] = numerical['Unnamed: 0 '].replace(0, numerical['Unnamed: 0 '].mean())"
   ]
  },
  {
   "cell_type": "code",
   "execution_count": 159,
   "id": "447f5ff4",
   "metadata": {},
   "outputs": [
    {
     "name": "stdout",
     "output_type": "stream",
     "text": [
      "Unnamed: 0                       10909\n",
      "Customer Lifetime Value          10910\n",
      "Income                            8123\n",
      "Monthly Premium Auto             10910\n",
      "Months Since Last Claim          10556\n",
      "Months Since Policy Inception    10803\n",
      "Number of Open Complaints         2750\n",
      "Number of Policies               10910\n",
      "Total Claim Amount               10910\n",
      "dtype: int64\n"
     ]
    }
   ],
   "source": [
    "nonzero_counts = (numerical != 0).sum()\n",
    "print(nonzero_counts)"
   ]
  },
  {
   "cell_type": "code",
   "execution_count": 160,
   "id": "ab6d1fdf",
   "metadata": {},
   "outputs": [],
   "source": [
    "categorical = file.select_dtypes(object)     # extracting categorical data\n",
    "#categorical"
   ]
  },
  {
   "cell_type": "code",
   "execution_count": 161,
   "id": "27c874fe",
   "metadata": {},
   "outputs": [],
   "source": [
    "#numerical.head()   # headings of the numerical data"
   ]
  },
  {
   "cell_type": "code",
   "execution_count": 162,
   "id": "c876516b",
   "metadata": {},
   "outputs": [
    {
     "data": {
      "text/html": [
       "<div>\n",
       "<style scoped>\n",
       "    .dataframe tbody tr th:only-of-type {\n",
       "        vertical-align: middle;\n",
       "    }\n",
       "\n",
       "    .dataframe tbody tr th {\n",
       "        vertical-align: top;\n",
       "    }\n",
       "\n",
       "    .dataframe thead th {\n",
       "        text-align: right;\n",
       "    }\n",
       "</style>\n",
       "<table border=\"1\" class=\"dataframe\">\n",
       "  <thead>\n",
       "    <tr style=\"text-align: right;\">\n",
       "      <th></th>\n",
       "      <th>count</th>\n",
       "      <th>mean</th>\n",
       "      <th>std</th>\n",
       "      <th>min</th>\n",
       "      <th>25%</th>\n",
       "      <th>50%</th>\n",
       "      <th>75%</th>\n",
       "      <th>max</th>\n",
       "    </tr>\n",
       "  </thead>\n",
       "  <tbody>\n",
       "    <tr>\n",
       "      <th>Unnamed: 0</th>\n",
       "      <td>10910.0</td>\n",
       "      <td>5454.500000</td>\n",
       "      <td>3149.590053</td>\n",
       "      <td>0.000000</td>\n",
       "      <td>2727.250000</td>\n",
       "      <td>5454.500000</td>\n",
       "      <td>8181.750000</td>\n",
       "      <td>10909.000000</td>\n",
       "    </tr>\n",
       "    <tr>\n",
       "      <th>Customer Lifetime Value</th>\n",
       "      <td>10910.0</td>\n",
       "      <td>8018.241094</td>\n",
       "      <td>6885.081434</td>\n",
       "      <td>1898.007675</td>\n",
       "      <td>4014.453113</td>\n",
       "      <td>5771.147235</td>\n",
       "      <td>8992.779137</td>\n",
       "      <td>83325.381190</td>\n",
       "    </tr>\n",
       "    <tr>\n",
       "      <th>Income</th>\n",
       "      <td>10910.0</td>\n",
       "      <td>37536.284785</td>\n",
       "      <td>30359.195670</td>\n",
       "      <td>0.000000</td>\n",
       "      <td>0.000000</td>\n",
       "      <td>33813.500000</td>\n",
       "      <td>62250.750000</td>\n",
       "      <td>99981.000000</td>\n",
       "    </tr>\n",
       "    <tr>\n",
       "      <th>Monthly Premium Auto</th>\n",
       "      <td>10910.0</td>\n",
       "      <td>93.196059</td>\n",
       "      <td>34.442532</td>\n",
       "      <td>61.000000</td>\n",
       "      <td>68.000000</td>\n",
       "      <td>83.000000</td>\n",
       "      <td>109.000000</td>\n",
       "      <td>298.000000</td>\n",
       "    </tr>\n",
       "    <tr>\n",
       "      <th>Months Since Last Claim</th>\n",
       "      <td>10277.0</td>\n",
       "      <td>15.149071</td>\n",
       "      <td>10.080349</td>\n",
       "      <td>0.000000</td>\n",
       "      <td>6.000000</td>\n",
       "      <td>14.000000</td>\n",
       "      <td>23.000000</td>\n",
       "      <td>35.000000</td>\n",
       "    </tr>\n",
       "    <tr>\n",
       "      <th>Months Since Policy Inception</th>\n",
       "      <td>10910.0</td>\n",
       "      <td>48.091934</td>\n",
       "      <td>27.940675</td>\n",
       "      <td>0.000000</td>\n",
       "      <td>24.000000</td>\n",
       "      <td>48.000000</td>\n",
       "      <td>71.000000</td>\n",
       "      <td>99.000000</td>\n",
       "    </tr>\n",
       "    <tr>\n",
       "      <th>Number of Open Complaints</th>\n",
       "      <td>10277.0</td>\n",
       "      <td>0.384256</td>\n",
       "      <td>0.912457</td>\n",
       "      <td>0.000000</td>\n",
       "      <td>0.000000</td>\n",
       "      <td>0.000000</td>\n",
       "      <td>0.000000</td>\n",
       "      <td>5.000000</td>\n",
       "    </tr>\n",
       "    <tr>\n",
       "      <th>Number of Policies</th>\n",
       "      <td>10910.0</td>\n",
       "      <td>2.979193</td>\n",
       "      <td>2.399359</td>\n",
       "      <td>1.000000</td>\n",
       "      <td>1.000000</td>\n",
       "      <td>2.000000</td>\n",
       "      <td>4.000000</td>\n",
       "      <td>9.000000</td>\n",
       "    </tr>\n",
       "    <tr>\n",
       "      <th>Total Claim Amount</th>\n",
       "      <td>10910.0</td>\n",
       "      <td>434.888330</td>\n",
       "      <td>292.180556</td>\n",
       "      <td>0.099007</td>\n",
       "      <td>271.082527</td>\n",
       "      <td>382.564630</td>\n",
       "      <td>547.200000</td>\n",
       "      <td>2893.239678</td>\n",
       "    </tr>\n",
       "  </tbody>\n",
       "</table>\n",
       "</div>"
      ],
      "text/plain": [
       "                                 count          mean           std   \n",
       "Unnamed: 0                     10910.0   5454.500000   3149.590053  \\\n",
       "Customer Lifetime Value        10910.0   8018.241094   6885.081434   \n",
       "Income                         10910.0  37536.284785  30359.195670   \n",
       "Monthly Premium Auto           10910.0     93.196059     34.442532   \n",
       "Months Since Last Claim        10277.0     15.149071     10.080349   \n",
       "Months Since Policy Inception  10910.0     48.091934     27.940675   \n",
       "Number of Open Complaints      10277.0      0.384256      0.912457   \n",
       "Number of Policies             10910.0      2.979193      2.399359   \n",
       "Total Claim Amount             10910.0    434.888330    292.180556   \n",
       "\n",
       "                                       min          25%           50%   \n",
       "Unnamed: 0                        0.000000  2727.250000   5454.500000  \\\n",
       "Customer Lifetime Value        1898.007675  4014.453113   5771.147235   \n",
       "Income                            0.000000     0.000000  33813.500000   \n",
       "Monthly Premium Auto             61.000000    68.000000     83.000000   \n",
       "Months Since Last Claim           0.000000     6.000000     14.000000   \n",
       "Months Since Policy Inception     0.000000    24.000000     48.000000   \n",
       "Number of Open Complaints         0.000000     0.000000      0.000000   \n",
       "Number of Policies                1.000000     1.000000      2.000000   \n",
       "Total Claim Amount                0.099007   271.082527    382.564630   \n",
       "\n",
       "                                        75%           max  \n",
       "Unnamed: 0                      8181.750000  10909.000000  \n",
       "Customer Lifetime Value         8992.779137  83325.381190  \n",
       "Income                         62250.750000  99981.000000  \n",
       "Monthly Premium Auto             109.000000    298.000000  \n",
       "Months Since Last Claim           23.000000     35.000000  \n",
       "Months Since Policy Inception     71.000000     99.000000  \n",
       "Number of Open Complaints          0.000000      5.000000  \n",
       "Number of Policies                 4.000000      9.000000  \n",
       "Total Claim Amount               547.200000   2893.239678  "
      ]
     },
     "execution_count": 162,
     "metadata": {},
     "output_type": "execute_result"
    }
   ],
   "source": [
    "numerical.describe().T # transposing the data for further analyses especially with respect to correlation "
   ]
  },
  {
   "cell_type": "code",
   "execution_count": 163,
   "id": "3fc420bf",
   "metadata": {},
   "outputs": [],
   "source": [
    "unknown_value = numerical['Monthly Premium Auto'].tolist()\n",
    "#print(unknown_value)"
   ]
  },
  {
   "cell_type": "code",
   "execution_count": 164,
   "id": "3ab4ae41",
   "metadata": {},
   "outputs": [
    {
     "data": {
      "text/plain": [
       "<seaborn.axisgrid.FacetGrid at 0x22215f8f750>"
      ]
     },
     "execution_count": 164,
     "metadata": {},
     "output_type": "execute_result"
    },
    {
     "data": {
      "image/png": "[encoded data removed]",
      "text/plain": [
       "<Figure size 500x500 with 1 Axes>"
      ]
     },
     "metadata": {},
     "output_type": "display_data"
    }
   ],
   "source": [
    "sns.displot(numerical['Monthly Premium Auto']) # distribution graph for 'Customer Lifetime Value' in view of the presence of errors\n",
    "#plt.show()"
   ]
  },
  {
   "cell_type": "code",
   "execution_count": 165,
   "id": "41063f11",
   "metadata": {},
   "outputs": [
    {
     "data": {
      "text/plain": [
       "<seaborn.axisgrid.FacetGrid at 0x22217379590>"
      ]
     },
     "execution_count": 165,
     "metadata": {},
     "output_type": "execute_result"
    },
    {
     "data": {
      "image/png": "[encoded data removed]",
      "text/plain": [
       "<Figure size 500x500 with 1 Axes>"
      ]
     },
     "metadata": {},
     "output_type": "display_data"
    }
   ],
   "source": [
    "sns.displot(numerical['Total Claim Amount'])    # distribution for 'Total Claim Amount'\n",
    "#plt.show()"
   ]
  },
  {
   "cell_type": "code",
   "execution_count": null,
   "id": "dd164e15",
   "metadata": {},
   "outputs": [],
   "source": []
  },
  {
   "cell_type": "code",
   "execution_count": 166,
   "id": "30668fa9",
   "metadata": {},
   "outputs": [
    {
     "data": {
      "text/plain": [
       "<seaborn.axisgrid.FacetGrid at 0x2221294e390>"
      ]
     },
     "execution_count": 166,
     "metadata": {},
     "output_type": "execute_result"
    },
    {
     "data": {
      "image/png": "[encoded data removed]",
      "text/plain": [
       "<Figure size 500x500 with 1 Axes>"
      ]
     },
     "metadata": {},
     "output_type": "display_data"
    }
   ],
   "source": [
    "sns.displot(numerical[\"Months Since Last Claim\"]) # distribution for 'Monthly Premium Auto'\n",
    "#plt.show"
   ]
  },
  {
   "cell_type": "code",
   "execution_count": null,
   "id": "c063fc16",
   "metadata": {},
   "outputs": [],
   "source": [
    "\n"
   ]
  },
  {
   "cell_type": "code",
   "execution_count": null,
   "id": "995c2338",
   "metadata": {},
   "outputs": [],
   "source": []
  },
  {
   "cell_type": "code",
   "execution_count": 167,
   "id": "398a65fd",
   "metadata": {},
   "outputs": [
    {
     "data": {
      "text/plain": [
       "<Axes: >"
      ]
     },
     "execution_count": 167,
     "metadata": {},
     "output_type": "execute_result"
    },
    {
     "data": {
      "image/png": "[encoded data removed]",
      "text/plain": [
       "<Figure size 640x480 with 1 Axes>"
      ]
     },
     "metadata": {},
     "output_type": "display_data"
    }
   ],
   "source": [
    "numerical[\"Total Claim Amount\"].hist()                    # histogrm for 'Total Claim Amount'\n",
    "#plt.show"
   ]
  },
  {
   "cell_type": "code",
   "execution_count": 168,
   "id": "5c075012",
   "metadata": {},
   "outputs": [
    {
     "data": {
      "text/plain": [
       "<Axes: xlabel='Monthly Premium Auto'>"
      ]
     },
     "execution_count": 168,
     "metadata": {},
     "output_type": "execute_result"
    },
    {
     "data": {
      "image/png": "[encoded data removed]",
      "text/plain": [
       "<Figure size 640x480 with 1 Axes>"
      ]
     },
     "metadata": {},
     "output_type": "display_data"
    }
   ],
   "source": [
    "sns.boxplot(x=numerical['Monthly Premium Auto'])  # boxplot for the assessment of errors in the data using the upper and lower limits as thresholds for determining outliers\n",
    "#plt.show()"
   ]
  },
  {
   "cell_type": "code",
   "execution_count": 169,
   "id": "665c639d",
   "metadata": {},
   "outputs": [],
   "source": [
    "iqr = np.percentile(numerical['Monthly Premium Auto'],75) - np.percentile(numerical['Monthly Premium Auto'],25)\n",
    "upper_limit = np.percentile(numerical['Monthly Premium Auto'],75) + 0.44*iqr\n",
    "lower_limit = np.percentile(numerical['Monthly Premium Auto'],25) - 0.00045*iqr # finding upper and lower limits to used in refining the results"
   ]
  },
  {
   "cell_type": "code",
   "execution_count": 170,
   "id": "7dd7571c",
   "metadata": {},
   "outputs": [
    {
     "data": {
      "text/plain": [
       "41.0"
      ]
     },
     "execution_count": 170,
     "metadata": {},
     "output_type": "execute_result"
    }
   ],
   "source": [
    "iqr\n"
   ]
  },
  {
   "cell_type": "code",
   "execution_count": 171,
   "id": "bcc35bf9",
   "metadata": {},
   "outputs": [
    {
     "data": {
      "text/plain": [
       "127.03999999999999"
      ]
     },
     "execution_count": 171,
     "metadata": {},
     "output_type": "execute_result"
    }
   ],
   "source": [
    "upper_limit"
   ]
  },
  {
   "cell_type": "code",
   "execution_count": 172,
   "id": "eca1d0d7",
   "metadata": {},
   "outputs": [
    {
     "data": {
      "text/plain": [
       "67.98155"
      ]
     },
     "execution_count": 172,
     "metadata": {},
     "output_type": "execute_result"
    }
   ],
   "source": [
    "lower_limit"
   ]
  },
  {
   "cell_type": "code",
   "execution_count": 173,
   "id": "9f5d262a",
   "metadata": {},
   "outputs": [
    {
     "data": {
      "text/plain": [
       "<seaborn.axisgrid.FacetGrid at 0x222175e2b50>"
      ]
     },
     "execution_count": 173,
     "metadata": {},
     "output_type": "execute_result"
    },
    {
     "data": {
      "image/png": "[encoded data removed]",
      "text/plain": [
       "<Figure size 500x500 with 1 Axes>"
      ]
     },
     "metadata": {},
     "output_type": "display_data"
    }
   ],
   "source": [
    "numerical1 = numerical[(numerical['Monthly Premium Auto']>lower_limit) & (numerical['Monthly Premium Auto']<upper_limit)].copy()\n",
    "sns.displot(numerical1['Monthly Premium Auto'])\n",
    "#plt.show()   # applying the result to determine if the data can is normally distributed after cleaning; but not so good"
   ]
  },
  {
   "cell_type": "code",
   "execution_count": 174,
   "id": "22004711",
   "metadata": {},
   "outputs": [
    {
     "data": {
      "text/plain": [
       "<Axes: xlabel='Total Claim Amount'>"
      ]
     },
     "execution_count": 174,
     "metadata": {},
     "output_type": "execute_result"
    },
    {
     "data": {
      "image/png": "[encoded data removed]",
      "text/plain": [
       "<Figure size 640x480 with 1 Axes>"
      ]
     },
     "metadata": {},
     "output_type": "display_data"
    }
   ],
   "source": [
    "sns.boxplot(x=numerical['Total Claim Amount'])    # boxplot for 'Total Claim Amount'\n",
    "#plt.show()"
   ]
  },
  {
   "cell_type": "code",
   "execution_count": 175,
   "id": "aef14172",
   "metadata": {},
   "outputs": [],
   "source": [
    "iqr = np.percentile(numerical['Total Claim Amount'],75) - np.percentile(numerical['Total Claim Amount'],25)\n",
    "upper_limit = np.percentile(numerical['Total Claim Amount'],75) + 0.9*iqr\n",
    "lower_limit = np.percentile(numerical['Total Claim Amount'],25) - 0.51*iqr   # same as above, but for 'Total Claim Amount'"
   ]
  },
  {
   "cell_type": "code",
   "execution_count": 176,
   "id": "23381b60",
   "metadata": {},
   "outputs": [
    {
     "data": {
      "text/plain": [
       "276.11747325000005"
      ]
     },
     "execution_count": 176,
     "metadata": {},
     "output_type": "execute_result"
    }
   ],
   "source": [
    "iqr"
   ]
  },
  {
   "cell_type": "code",
   "execution_count": 177,
   "id": "78ab8fbe",
   "metadata": {},
   "outputs": [
    {
     "data": {
      "text/plain": [
       "795.705725925"
      ]
     },
     "execution_count": 177,
     "metadata": {},
     "output_type": "execute_result"
    }
   ],
   "source": [
    "upper_limit"
   ]
  },
  {
   "cell_type": "code",
   "execution_count": 178,
   "id": "7bcaa468",
   "metadata": {},
   "outputs": [
    {
     "data": {
      "text/plain": [
       "130.26261539249998"
      ]
     },
     "execution_count": 178,
     "metadata": {},
     "output_type": "execute_result"
    }
   ],
   "source": [
    "lower_limit"
   ]
  },
  {
   "cell_type": "code",
   "execution_count": 179,
   "id": "17fa3afa",
   "metadata": {},
   "outputs": [
    {
     "data": {
      "text/plain": [
       "<seaborn.axisgrid.FacetGrid at 0x2221772f890>"
      ]
     },
     "execution_count": 179,
     "metadata": {},
     "output_type": "execute_result"
    },
    {
     "data": {
      "image/png": "[encoded data removed]",
      "text/plain": [
       "<Figure size 500x500 with 1 Axes>"
      ]
     },
     "metadata": {},
     "output_type": "display_data"
    }
   ],
   "source": [
    "numerical1 = numerical[(numerical['Total Claim Amount']>lower_limit) & (numerical['Total Claim Amount']<upper_limit)].copy()\n",
    "sns.displot(numerical1['Total Claim Amount'])   # normality not so good\n",
    "#plt.show()"
   ]
  },
  {
   "cell_type": "code",
   "execution_count": 180,
   "id": "25411fb0",
   "metadata": {},
   "outputs": [],
   "source": [
    "numerical1 = numerical.drop(\"Total Claim Amount\", axis = 1) # 'Total Claim Amount' dropped from DataFrame in order to use only the features alone for further nalyses and prediction\n",
    "#numerical1"
   ]
  },
  {
   "cell_type": "code",
   "execution_count": 181,
   "id": "2a36d751",
   "metadata": {},
   "outputs": [],
   "source": [
    "correlations_matrix = numerical1.corr()     # correlation matrix to see pairs that influence each other\n",
    "#correlations_matrix"
   ]
  },
  {
   "cell_type": "code",
   "execution_count": null,
   "id": "0018eaa3",
   "metadata": {},
   "outputs": [],
   "source": []
  },
  {
   "cell_type": "code",
   "execution_count": 182,
   "id": "988358c1",
   "metadata": {},
   "outputs": [
    {
     "data": {
      "text/plain": [
       "<Axes: >"
      ]
     },
     "execution_count": 182,
     "metadata": {},
     "output_type": "execute_result"
    },
    {
     "data": {
      "image/png": "[encoded data removed]",
      "text/plain": [
       "<Figure size 640x480 with 2 Axes>"
      ]
     },
     "metadata": {},
     "output_type": "display_data"
    }
   ],
   "source": [
    "sns.heatmap(correlations_matrix, annot=True) # heat map using colours to show level of correlation. with black showing the least correlated pairs. Correlation here is very low for all except self correlated pairs \n",
    "#plt.show()"
   ]
  },
  {
   "cell_type": "markdown",
   "id": "346ca269",
   "metadata": {},
   "source": [
    "# Splitting and Scaling the Data"
   ]
  },
  {
   "cell_type": "code",
   "execution_count": 183,
   "id": "e7111d51",
   "metadata": {},
   "outputs": [],
   "source": [
    "import math\n",
    "from sklearn import linear_model"
   ]
  },
  {
   "cell_type": "code",
   "execution_count": 184,
   "id": "8697d1e1",
   "metadata": {},
   "outputs": [
    {
     "data": {
      "image/png": "[encoded data removed]",
      "text/plain": [
       "<Figure size 640x480 with 1 Axes>"
      ]
     },
     "metadata": {},
     "output_type": "display_data"
    }
   ],
   "source": [
    "sns.scatterplot(x=numerical1['Monthly Premium Auto'], y=numerical['Monthly Premium Auto'], data = file)\n",
    "plt.show()"
   ]
  },
  {
   "cell_type": "code",
   "execution_count": 185,
   "id": "fa043a3f",
   "metadata": {},
   "outputs": [],
   "source": [
    "from sklearn.preprocessing import MinMaxScaler # # importing libraries for trnaformation\n",
    "from sklearn.preprocessing import StandardScaler"
   ]
  },
  {
   "cell_type": "code",
   "execution_count": 186,
   "id": "0070785d",
   "metadata": {},
   "outputs": [],
   "source": [
    "y = numerical['Total Claim Amount']                       #splitting X and y\n",
    "X = numerical.drop(['Total Claim Amount'], axis=1)\n",
    "X.fillna(0, inplace = True)\n",
    "X_num = X.select_dtypes(include = np.number)\n",
    "#X_cat = X.select_dtypes(include = object)         "
   ]
  },
  {
   "cell_type": "code",
   "execution_count": null,
   "id": "7e15efbb",
   "metadata": {},
   "outputs": [],
   "source": []
  },
  {
   "cell_type": "code",
   "execution_count": 187,
   "id": "b7305680",
   "metadata": {},
   "outputs": [
    {
     "data": {
      "text/html": [
       "<div>\n",
       "<style scoped>\n",
       "    .dataframe tbody tr th:only-of-type {\n",
       "        vertical-align: middle;\n",
       "    }\n",
       "\n",
       "    .dataframe tbody tr th {\n",
       "        vertical-align: top;\n",
       "    }\n",
       "\n",
       "    .dataframe thead th {\n",
       "        text-align: right;\n",
       "    }\n",
       "</style>\n",
       "<table border=\"1\" class=\"dataframe\">\n",
       "  <thead>\n",
       "    <tr style=\"text-align: right;\">\n",
       "      <th></th>\n",
       "      <th>Unnamed: 0</th>\n",
       "      <th>Customer Lifetime Value</th>\n",
       "      <th>Income</th>\n",
       "      <th>Monthly Premium Auto</th>\n",
       "      <th>Months Since Last Claim</th>\n",
       "      <th>Months Since Policy Inception</th>\n",
       "      <th>Number of Open Complaints</th>\n",
       "      <th>Number of Policies</th>\n",
       "    </tr>\n",
       "  </thead>\n",
       "  <tbody>\n",
       "    <tr>\n",
       "      <th>0</th>\n",
       "      <td>0</td>\n",
       "      <td>4809.216960</td>\n",
       "      <td>48029</td>\n",
       "      <td>61</td>\n",
       "      <td>7.0</td>\n",
       "      <td>52</td>\n",
       "      <td>0.0</td>\n",
       "      <td>9</td>\n",
       "    </tr>\n",
       "    <tr>\n",
       "      <th>1</th>\n",
       "      <td>1</td>\n",
       "      <td>2228.525238</td>\n",
       "      <td>0</td>\n",
       "      <td>64</td>\n",
       "      <td>3.0</td>\n",
       "      <td>26</td>\n",
       "      <td>0.0</td>\n",
       "      <td>1</td>\n",
       "    </tr>\n",
       "    <tr>\n",
       "      <th>2</th>\n",
       "      <td>2</td>\n",
       "      <td>14947.917300</td>\n",
       "      <td>22139</td>\n",
       "      <td>100</td>\n",
       "      <td>34.0</td>\n",
       "      <td>31</td>\n",
       "      <td>0.0</td>\n",
       "      <td>2</td>\n",
       "    </tr>\n",
       "    <tr>\n",
       "      <th>3</th>\n",
       "      <td>3</td>\n",
       "      <td>22332.439460</td>\n",
       "      <td>49078</td>\n",
       "      <td>97</td>\n",
       "      <td>10.0</td>\n",
       "      <td>3</td>\n",
       "      <td>0.0</td>\n",
       "      <td>2</td>\n",
       "    </tr>\n",
       "    <tr>\n",
       "      <th>4</th>\n",
       "      <td>4</td>\n",
       "      <td>9025.067525</td>\n",
       "      <td>23675</td>\n",
       "      <td>117</td>\n",
       "      <td>0.0</td>\n",
       "      <td>31</td>\n",
       "      <td>0.0</td>\n",
       "      <td>7</td>\n",
       "    </tr>\n",
       "    <tr>\n",
       "      <th>...</th>\n",
       "      <td>...</td>\n",
       "      <td>...</td>\n",
       "      <td>...</td>\n",
       "      <td>...</td>\n",
       "      <td>...</td>\n",
       "      <td>...</td>\n",
       "      <td>...</td>\n",
       "      <td>...</td>\n",
       "    </tr>\n",
       "    <tr>\n",
       "      <th>10905</th>\n",
       "      <td>10905</td>\n",
       "      <td>15563.369440</td>\n",
       "      <td>0</td>\n",
       "      <td>253</td>\n",
       "      <td>0.0</td>\n",
       "      <td>40</td>\n",
       "      <td>0.0</td>\n",
       "      <td>7</td>\n",
       "    </tr>\n",
       "    <tr>\n",
       "      <th>10906</th>\n",
       "      <td>10906</td>\n",
       "      <td>5259.444853</td>\n",
       "      <td>61146</td>\n",
       "      <td>65</td>\n",
       "      <td>7.0</td>\n",
       "      <td>68</td>\n",
       "      <td>0.0</td>\n",
       "      <td>6</td>\n",
       "    </tr>\n",
       "    <tr>\n",
       "      <th>10907</th>\n",
       "      <td>10907</td>\n",
       "      <td>23893.304100</td>\n",
       "      <td>39837</td>\n",
       "      <td>201</td>\n",
       "      <td>11.0</td>\n",
       "      <td>63</td>\n",
       "      <td>0.0</td>\n",
       "      <td>2</td>\n",
       "    </tr>\n",
       "    <tr>\n",
       "      <th>10908</th>\n",
       "      <td>10908</td>\n",
       "      <td>11971.977650</td>\n",
       "      <td>64195</td>\n",
       "      <td>158</td>\n",
       "      <td>0.0</td>\n",
       "      <td>27</td>\n",
       "      <td>4.0</td>\n",
       "      <td>6</td>\n",
       "    </tr>\n",
       "    <tr>\n",
       "      <th>10909</th>\n",
       "      <td>10909</td>\n",
       "      <td>6857.519928</td>\n",
       "      <td>0</td>\n",
       "      <td>101</td>\n",
       "      <td>31.0</td>\n",
       "      <td>1</td>\n",
       "      <td>0.0</td>\n",
       "      <td>3</td>\n",
       "    </tr>\n",
       "  </tbody>\n",
       "</table>\n",
       "<p>10910 rows × 8 columns</p>\n",
       "</div>"
      ],
      "text/plain": [
       "       Unnamed: 0  Customer Lifetime Value  Income  Monthly Premium Auto   \n",
       "0               0              4809.216960   48029                    61  \\\n",
       "1               1              2228.525238       0                    64   \n",
       "2               2             14947.917300   22139                   100   \n",
       "3               3             22332.439460   49078                    97   \n",
       "4               4              9025.067525   23675                   117   \n",
       "...           ...                      ...     ...                   ...   \n",
       "10905       10905             15563.369440       0                   253   \n",
       "10906       10906              5259.444853   61146                    65   \n",
       "10907       10907             23893.304100   39837                   201   \n",
       "10908       10908             11971.977650   64195                   158   \n",
       "10909       10909              6857.519928       0                   101   \n",
       "\n",
       "       Months Since Last Claim  Months Since Policy Inception   \n",
       "0                          7.0                             52  \\\n",
       "1                          3.0                             26   \n",
       "2                         34.0                             31   \n",
       "3                         10.0                              3   \n",
       "4                          0.0                             31   \n",
       "...                        ...                            ...   \n",
       "10905                      0.0                             40   \n",
       "10906                      7.0                             68   \n",
       "10907                     11.0                             63   \n",
       "10908                      0.0                             27   \n",
       "10909                     31.0                              1   \n",
       "\n",
       "       Number of Open Complaints  Number of Policies  \n",
       "0                            0.0                   9  \n",
       "1                            0.0                   1  \n",
       "2                            0.0                   2  \n",
       "3                            0.0                   2  \n",
       "4                            0.0                   7  \n",
       "...                          ...                 ...  \n",
       "10905                        0.0                   7  \n",
       "10906                        0.0                   6  \n",
       "10907                        0.0                   2  \n",
       "10908                        4.0                   6  \n",
       "10909                        0.0                   3  \n",
       "\n",
       "[10910 rows x 8 columns]"
      ]
     },
     "execution_count": 187,
     "metadata": {},
     "output_type": "execute_result"
    }
   ],
   "source": [
    "X_num.fillna(0.1, inplace = True)\n",
    "X_num\n"
   ]
  },
  {
   "cell_type": "code",
   "execution_count": 188,
   "id": "3118b4fe",
   "metadata": {},
   "outputs": [
    {
     "name": "stdout",
     "output_type": "stream",
     "text": [
      "(10910, 8)\n"
     ]
    }
   ],
   "source": [
    "transformer = MinMaxScaler().fit(X_num) # normalising numerical\n",
    "x_normalized = transformer.transform(X_num)\n",
    "print(x_normalized.shape)\n",
    "x_normalized = pd.DataFrame(x_normalized, columns=X_num.columns)"
   ]
  },
  {
   "cell_type": "code",
   "execution_count": null,
   "id": "981c0286",
   "metadata": {},
   "outputs": [],
   "source": [
    "\n"
   ]
  },
  {
   "cell_type": "code",
   "execution_count": null,
   "id": "5e520abf",
   "metadata": {},
   "outputs": [],
   "source": []
  },
  {
   "cell_type": "code",
   "execution_count": 189,
   "id": "f88e1bb1",
   "metadata": {},
   "outputs": [
    {
     "data": {
      "text/html": [
       "<div>\n",
       "<style scoped>\n",
       "    .dataframe tbody tr th:only-of-type {\n",
       "        vertical-align: middle;\n",
       "    }\n",
       "\n",
       "    .dataframe tbody tr th {\n",
       "        vertical-align: top;\n",
       "    }\n",
       "\n",
       "    .dataframe thead th {\n",
       "        text-align: right;\n",
       "    }\n",
       "</style>\n",
       "<table border=\"1\" class=\"dataframe\">\n",
       "  <thead>\n",
       "    <tr style=\"text-align: right;\">\n",
       "      <th></th>\n",
       "      <th>Unnamed: 0</th>\n",
       "      <th>Customer Lifetime Value</th>\n",
       "      <th>Income</th>\n",
       "      <th>Monthly Premium Auto</th>\n",
       "      <th>Months Since Last Claim</th>\n",
       "      <th>Months Since Policy Inception</th>\n",
       "      <th>Number of Open Complaints</th>\n",
       "      <th>Number of Policies</th>\n",
       "    </tr>\n",
       "  </thead>\n",
       "  <tbody>\n",
       "    <tr>\n",
       "      <th>Unnamed: 0</th>\n",
       "      <td>1.000000</td>\n",
       "      <td>0.001355</td>\n",
       "      <td>0.008910</td>\n",
       "      <td>0.000863</td>\n",
       "      <td>0.013572</td>\n",
       "      <td>0.012795</td>\n",
       "      <td>0.008943</td>\n",
       "      <td>0.002319</td>\n",
       "    </tr>\n",
       "    <tr>\n",
       "      <th>Customer Lifetime Value</th>\n",
       "      <td>0.001355</td>\n",
       "      <td>1.000000</td>\n",
       "      <td>0.028306</td>\n",
       "      <td>0.403069</td>\n",
       "      <td>0.017189</td>\n",
       "      <td>0.016960</td>\n",
       "      <td>-0.030616</td>\n",
       "      <td>0.016024</td>\n",
       "    </tr>\n",
       "    <tr>\n",
       "      <th>Income</th>\n",
       "      <td>0.008910</td>\n",
       "      <td>0.028306</td>\n",
       "      <td>1.000000</td>\n",
       "      <td>-0.009788</td>\n",
       "      <td>-0.016671</td>\n",
       "      <td>-0.005903</td>\n",
       "      <td>0.008425</td>\n",
       "      <td>-0.009960</td>\n",
       "    </tr>\n",
       "    <tr>\n",
       "      <th>Monthly Premium Auto</th>\n",
       "      <td>0.000863</td>\n",
       "      <td>0.403069</td>\n",
       "      <td>-0.009788</td>\n",
       "      <td>1.000000</td>\n",
       "      <td>0.007845</td>\n",
       "      <td>0.018953</td>\n",
       "      <td>-0.010059</td>\n",
       "      <td>-0.020505</td>\n",
       "    </tr>\n",
       "    <tr>\n",
       "      <th>Months Since Last Claim</th>\n",
       "      <td>0.013572</td>\n",
       "      <td>0.017189</td>\n",
       "      <td>-0.016671</td>\n",
       "      <td>0.007845</td>\n",
       "      <td>1.000000</td>\n",
       "      <td>-0.036081</td>\n",
       "      <td>0.036455</td>\n",
       "      <td>-0.000649</td>\n",
       "    </tr>\n",
       "    <tr>\n",
       "      <th>Months Since Policy Inception</th>\n",
       "      <td>0.012795</td>\n",
       "      <td>0.016960</td>\n",
       "      <td>-0.005903</td>\n",
       "      <td>0.018953</td>\n",
       "      <td>-0.036081</td>\n",
       "      <td>1.000000</td>\n",
       "      <td>0.004165</td>\n",
       "      <td>-0.009123</td>\n",
       "    </tr>\n",
       "    <tr>\n",
       "      <th>Number of Open Complaints</th>\n",
       "      <td>0.008943</td>\n",
       "      <td>-0.030616</td>\n",
       "      <td>0.008425</td>\n",
       "      <td>-0.010059</td>\n",
       "      <td>0.036455</td>\n",
       "      <td>0.004165</td>\n",
       "      <td>1.000000</td>\n",
       "      <td>0.001681</td>\n",
       "    </tr>\n",
       "    <tr>\n",
       "      <th>Number of Policies</th>\n",
       "      <td>0.002319</td>\n",
       "      <td>0.016024</td>\n",
       "      <td>-0.009960</td>\n",
       "      <td>-0.020505</td>\n",
       "      <td>-0.000649</td>\n",
       "      <td>-0.009123</td>\n",
       "      <td>0.001681</td>\n",
       "      <td>1.000000</td>\n",
       "    </tr>\n",
       "  </tbody>\n",
       "</table>\n",
       "</div>"
      ],
      "text/plain": [
       "                               Unnamed: 0  Customer Lifetime Value    Income   \n",
       "Unnamed: 0                       1.000000                 0.001355  0.008910  \\\n",
       "Customer Lifetime Value          0.001355                 1.000000  0.028306   \n",
       "Income                           0.008910                 0.028306  1.000000   \n",
       "Monthly Premium Auto             0.000863                 0.403069 -0.009788   \n",
       "Months Since Last Claim          0.013572                 0.017189 -0.016671   \n",
       "Months Since Policy Inception    0.012795                 0.016960 -0.005903   \n",
       "Number of Open Complaints        0.008943                -0.030616  0.008425   \n",
       "Number of Policies               0.002319                 0.016024 -0.009960   \n",
       "\n",
       "                               Monthly Premium Auto  Months Since Last Claim   \n",
       "Unnamed: 0                                 0.000863                 0.013572  \\\n",
       "Customer Lifetime Value                    0.403069                 0.017189   \n",
       "Income                                    -0.009788                -0.016671   \n",
       "Monthly Premium Auto                       1.000000                 0.007845   \n",
       "Months Since Last Claim                    0.007845                 1.000000   \n",
       "Months Since Policy Inception              0.018953                -0.036081   \n",
       "Number of Open Complaints                 -0.010059                 0.036455   \n",
       "Number of Policies                        -0.020505                -0.000649   \n",
       "\n",
       "                               Months Since Policy Inception   \n",
       "Unnamed: 0                                          0.012795  \\\n",
       "Customer Lifetime Value                             0.016960   \n",
       "Income                                             -0.005903   \n",
       "Monthly Premium Auto                                0.018953   \n",
       "Months Since Last Claim                            -0.036081   \n",
       "Months Since Policy Inception                       1.000000   \n",
       "Number of Open Complaints                           0.004165   \n",
       "Number of Policies                                 -0.009123   \n",
       "\n",
       "                               Number of Open Complaints  Number of Policies  \n",
       "Unnamed: 0                                      0.008943            0.002319  \n",
       "Customer Lifetime Value                        -0.030616            0.016024  \n",
       "Income                                          0.008425           -0.009960  \n",
       "Monthly Premium Auto                           -0.010059           -0.020505  \n",
       "Months Since Last Claim                         0.036455           -0.000649  \n",
       "Months Since Policy Inception                   0.004165           -0.009123  \n",
       "Number of Open Complaints                       1.000000            0.001681  \n",
       "Number of Policies                              0.001681            1.000000  "
      ]
     },
     "execution_count": 189,
     "metadata": {},
     "output_type": "execute_result"
    }
   ],
   "source": [
    "pd.DataFrame(x_normalized, columns=X_num.columns).corr()"
   ]
  },
  {
   "cell_type": "code",
   "execution_count": 190,
   "id": "2d0bd48f",
   "metadata": {},
   "outputs": [],
   "source": [
    "#transformer = StandardScaler().fit(X_num) # alternative method for normalising the data\n",
    "#x_standardized = transformer.transform(X_num)\n",
    "#print(x_standardized.shape)\n",
    "#pd.DataFrame(x_standardized, columns=X_num.columns)"
   ]
  },
  {
   "cell_type": "code",
   "execution_count": 191,
   "id": "0e63732c",
   "metadata": {},
   "outputs": [],
   "source": [
    "#pd.DataFrame(x_standardized, columns=X_num.columns).describe().T"
   ]
  },
  {
   "cell_type": "code",
   "execution_count": null,
   "id": "e7f98e10",
   "metadata": {},
   "outputs": [],
   "source": []
  },
  {
   "cell_type": "code",
   "execution_count": 192,
   "id": "ed278396",
   "metadata": {},
   "outputs": [],
   "source": [
    "#X = x_normalized\n",
    "#X.fillna(X.mean(), inplace = True)\n"
   ]
  },
  {
   "cell_type": "code",
   "execution_count": 193,
   "id": "d417e012",
   "metadata": {},
   "outputs": [],
   "source": [
    "#y = numerical['Total Claim Amount'] \n",
    "#y.head()"
   ]
  },
  {
   "cell_type": "code",
   "execution_count": 194,
   "id": "7c939fd2",
   "metadata": {},
   "outputs": [],
   "source": [
    "#print(numerical['Total Claim Amount'].isnull().any())"
   ]
  },
  {
   "cell_type": "code",
   "execution_count": 195,
   "id": "a8589d6c",
   "metadata": {},
   "outputs": [
    {
     "name": "stdout",
     "output_type": "stream",
     "text": [
      "(8728, 8)\n",
      "(2182, 8)\n",
      "(8728,)\n",
      "(2182,)\n"
     ]
    }
   ],
   "source": [
    "from sklearn.model_selection import train_test_split\n",
    "X_train, X_test, y_train, y_test = train_test_split(X, y, test_size=0.2, random_state=42)\n",
    "\n",
    "print(X_train.shape)\n",
    "print(X_test.shape)\n",
    "print(y_train.shape)\n",
    "print(y_test.shape)"
   ]
  },
  {
   "cell_type": "code",
   "execution_count": 196,
   "id": "27736744",
   "metadata": {},
   "outputs": [
    {
     "data": {
      "text/html": [
       "<div>\n",
       "<style scoped>\n",
       "    .dataframe tbody tr th:only-of-type {\n",
       "        vertical-align: middle;\n",
       "    }\n",
       "\n",
       "    .dataframe tbody tr th {\n",
       "        vertical-align: top;\n",
       "    }\n",
       "\n",
       "    .dataframe thead th {\n",
       "        text-align: right;\n",
       "    }\n",
       "</style>\n",
       "<table border=\"1\" class=\"dataframe\">\n",
       "  <thead>\n",
       "    <tr style=\"text-align: right;\">\n",
       "      <th></th>\n",
       "      <th>Unnamed: 0</th>\n",
       "      <th>Customer Lifetime Value</th>\n",
       "      <th>Income</th>\n",
       "      <th>Monthly Premium Auto</th>\n",
       "      <th>Months Since Last Claim</th>\n",
       "      <th>Months Since Policy Inception</th>\n",
       "      <th>Number of Open Complaints</th>\n",
       "      <th>Number of Policies</th>\n",
       "    </tr>\n",
       "  </thead>\n",
       "  <tbody>\n",
       "    <tr>\n",
       "      <th>3105</th>\n",
       "      <td>3105</td>\n",
       "      <td>4665.129599</td>\n",
       "      <td>0</td>\n",
       "      <td>62</td>\n",
       "      <td>26.0</td>\n",
       "      <td>62</td>\n",
       "      <td>0.0</td>\n",
       "      <td>3</td>\n",
       "    </tr>\n",
       "    <tr>\n",
       "      <th>6032</th>\n",
       "      <td>6032</td>\n",
       "      <td>10288.924950</td>\n",
       "      <td>96337</td>\n",
       "      <td>127</td>\n",
       "      <td>19.0</td>\n",
       "      <td>12</td>\n",
       "      <td>0.0</td>\n",
       "      <td>3</td>\n",
       "    </tr>\n",
       "    <tr>\n",
       "      <th>157</th>\n",
       "      <td>157</td>\n",
       "      <td>4873.436612</td>\n",
       "      <td>18866</td>\n",
       "      <td>126</td>\n",
       "      <td>4.0</td>\n",
       "      <td>62</td>\n",
       "      <td>0.0</td>\n",
       "      <td>1</td>\n",
       "    </tr>\n",
       "    <tr>\n",
       "      <th>6964</th>\n",
       "      <td>6964</td>\n",
       "      <td>6944.739992</td>\n",
       "      <td>0</td>\n",
       "      <td>68</td>\n",
       "      <td>24.0</td>\n",
       "      <td>31</td>\n",
       "      <td>0.0</td>\n",
       "      <td>2</td>\n",
       "    </tr>\n",
       "    <tr>\n",
       "      <th>6349</th>\n",
       "      <td>6349</td>\n",
       "      <td>2472.469209</td>\n",
       "      <td>63860</td>\n",
       "      <td>62</td>\n",
       "      <td>26.0</td>\n",
       "      <td>81</td>\n",
       "      <td>0.0</td>\n",
       "      <td>1</td>\n",
       "    </tr>\n",
       "  </tbody>\n",
       "</table>\n",
       "</div>"
      ],
      "text/plain": [
       "      Unnamed: 0  Customer Lifetime Value  Income  Monthly Premium Auto   \n",
       "3105        3105              4665.129599       0                    62  \\\n",
       "6032        6032             10288.924950   96337                   127   \n",
       "157          157              4873.436612   18866                   126   \n",
       "6964        6964              6944.739992       0                    68   \n",
       "6349        6349              2472.469209   63860                    62   \n",
       "\n",
       "      Months Since Last Claim  Months Since Policy Inception   \n",
       "3105                     26.0                             62  \\\n",
       "6032                     19.0                             12   \n",
       "157                       4.0                             62   \n",
       "6964                     24.0                             31   \n",
       "6349                     26.0                             81   \n",
       "\n",
       "      Number of Open Complaints  Number of Policies  \n",
       "3105                        0.0                   3  \n",
       "6032                        0.0                   3  \n",
       "157                         0.0                   1  \n",
       "6964                        0.0                   2  \n",
       "6349                        0.0                   1  "
      ]
     },
     "execution_count": 196,
     "metadata": {},
     "output_type": "execute_result"
    }
   ],
   "source": [
    "X_train.head()"
   ]
  },
  {
   "cell_type": "code",
   "execution_count": 197,
   "id": "cedee5ea",
   "metadata": {},
   "outputs": [
    {
     "data": {
      "text/plain": [
       "3105    297.600000\n",
       "6032    609.600000\n",
       "157     604.800000\n",
       "6964    489.600000\n",
       "6349    208.598246\n",
       "Name: Total Claim Amount, dtype: float64"
      ]
     },
     "execution_count": 197,
     "metadata": {},
     "output_type": "execute_result"
    }
   ],
   "source": [
    "y_train.head()"
   ]
  },
  {
   "cell_type": "code",
   "execution_count": null,
   "id": "c1b6dc50",
   "metadata": {},
   "outputs": [],
   "source": []
  },
  {
   "cell_type": "code",
   "execution_count": 198,
   "id": "23a34983",
   "metadata": {},
   "outputs": [
    {
     "data": {
      "text/html": [
       "<style>#sk-container-id-4 {color: black;background-color: white;}#sk-container-id-4 pre{padding: 0;}#sk-container-id-4 div.sk-toggleable {background-color: white;}#sk-container-id-4 label.sk-toggleable__label {cursor: pointer;display: block;width: 100%;margin-bottom: 0;padding: 0.3em;box-sizing: border-box;text-align: center;}#sk-container-id-4 label.sk-toggleable__label-arrow:before {content: \"▸\";float: left;margin-right: 0.25em;color: #696969;}#sk-container-id-4 label.sk-toggleable__label-arrow:hover:before {color: black;}#sk-container-id-4 div.sk-estimator:hover label.sk-toggleable__label-arrow:before {color: black;}#sk-container-id-4 div.sk-toggleable__content {max-height: 0;max-width: 0;overflow: hidden;text-align: left;background-color: #f0f8ff;}#sk-container-id-4 div.sk-toggleable__content pre {margin: 0.2em;color: black;border-radius: 0.25em;background-color: #f0f8ff;}#sk-container-id-4 input.sk-toggleable__control:checked~div.sk-toggleable__content {max-height: 200px;max-width: 100%;overflow: auto;}#sk-container-id-4 input.sk-toggleable__control:checked~label.sk-toggleable__label-arrow:before {content: \"▾\";}#sk-container-id-4 div.sk-estimator input.sk-toggleable__control:checked~label.sk-toggleable__label {background-color: #d4ebff;}#sk-container-id-4 div.sk-label input.sk-toggleable__control:checked~label.sk-toggleable__label {background-color: #d4ebff;}#sk-container-id-4 input.sk-hidden--visually {border: 0;clip: rect(1px 1px 1px 1px);clip: rect(1px, 1px, 1px, 1px);height: 1px;margin: -1px;overflow: hidden;padding: 0;position: absolute;width: 1px;}#sk-container-id-4 div.sk-estimator {font-family: monospace;background-color: #f0f8ff;border: 1px dotted black;border-radius: 0.25em;box-sizing: border-box;margin-bottom: 0.5em;}#sk-container-id-4 div.sk-estimator:hover {background-color: #d4ebff;}#sk-container-id-4 div.sk-parallel-item::after {content: \"\";width: 100%;border-bottom: 1px solid gray;flex-grow: 1;}#sk-container-id-4 div.sk-label:hover label.sk-toggleable__label {background-color: #d4ebff;}#sk-container-id-4 div.sk-serial::before {content: \"\";position: absolute;border-left: 1px solid gray;box-sizing: border-box;top: 0;bottom: 0;left: 50%;z-index: 0;}#sk-container-id-4 div.sk-serial {display: flex;flex-direction: column;align-items: center;background-color: white;padding-right: 0.2em;padding-left: 0.2em;position: relative;}#sk-container-id-4 div.sk-item {position: relative;z-index: 1;}#sk-container-id-4 div.sk-parallel {display: flex;align-items: stretch;justify-content: center;background-color: white;position: relative;}#sk-container-id-4 div.sk-item::before, #sk-container-id-4 div.sk-parallel-item::before {content: \"\";position: absolute;border-left: 1px solid gray;box-sizing: border-box;top: 0;bottom: 0;left: 50%;z-index: -1;}#sk-container-id-4 div.sk-parallel-item {display: flex;flex-direction: column;z-index: 1;position: relative;background-color: white;}#sk-container-id-4 div.sk-parallel-item:first-child::after {align-self: flex-end;width: 50%;}#sk-container-id-4 div.sk-parallel-item:last-child::after {align-self: flex-start;width: 50%;}#sk-container-id-4 div.sk-parallel-item:only-child::after {width: 0;}#sk-container-id-4 div.sk-dashed-wrapped {border: 1px dashed gray;margin: 0 0.4em 0.5em 0.4em;box-sizing: border-box;padding-bottom: 0.4em;background-color: white;}#sk-container-id-4 div.sk-label label {font-family: monospace;font-weight: bold;display: inline-block;line-height: 1.2em;}#sk-container-id-4 div.sk-label-container {text-align: center;}#sk-container-id-4 div.sk-container {/* jupyter's `normalize.less` sets `[hidden] { display: none; }` but bootstrap.min.css set `[hidden] { display: none !important; }` so we also need the `!important` here to be able to override the default hidden behavior on the sphinx rendered scikit-learn.org. See: https://github.com/scikit-learn/scikit-learn/issues/21755 */display: inline-block !important;position: relative;}#sk-container-id-4 div.sk-text-repr-fallback {display: none;}</style><div id=\"sk-container-id-4\" class=\"sk-top-container\"><div class=\"sk-text-repr-fallback\"><pre>LinearRegression()</pre><b>In a Jupyter environment, please rerun this cell to show the HTML representation or trust the notebook. <br />On GitHub, the HTML representation is unable to render, please try loading this page with nbviewer.org.</b></div><div class=\"sk-container\" hidden><div class=\"sk-item\"><div class=\"sk-estimator sk-toggleable\"><input class=\"sk-toggleable__control sk-hidden--visually\" id=\"sk-estimator-id-4\" type=\"checkbox\" checked><label for=\"sk-estimator-id-4\" class=\"sk-toggleable__label sk-toggleable__label-arrow\">LinearRegression</label><div class=\"sk-toggleable__content\"><pre>LinearRegression()</pre></div></div></div></div></div>"
      ],
      "text/plain": [
       "LinearRegression()"
      ]
     },
     "execution_count": 198,
     "metadata": {},
     "output_type": "execute_result"
    }
   ],
   "source": [
    "lm = linear_model.LinearRegression()\n",
    "lm.fit(X_train,y_train)"
   ]
  },
  {
   "cell_type": "code",
   "execution_count": null,
   "id": "80faebdc",
   "metadata": {},
   "outputs": [],
   "source": []
  },
  {
   "cell_type": "code",
   "execution_count": 199,
   "id": "6903f9bc",
   "metadata": {},
   "outputs": [
    {
     "data": {
      "text/plain": [
       "0.5236177987537436"
      ]
     },
     "execution_count": 199,
     "metadata": {},
     "output_type": "execute_result"
    }
   ],
   "source": [
    "from sklearn.metrics import r2_score\n",
    "predictions = lm.predict(X_train)\n",
    "r2_score(y_train, predictions)"
   ]
  },
  {
   "cell_type": "code",
   "execution_count": 200,
   "id": "39ce69e3",
   "metadata": {},
   "outputs": [
    {
     "data": {
      "text/plain": [
       "0.5068776749771241"
      ]
     },
     "execution_count": 200,
     "metadata": {},
     "output_type": "execute_result"
    }
   ],
   "source": [
    "predictions_test = lm.predict(X_test)\n",
    "r2_score(y_test, predictions_test)"
   ]
  },
  {
   "cell_type": "code",
   "execution_count": 201,
   "id": "a8838029",
   "metadata": {},
   "outputs": [
    {
     "data": {
      "text/plain": [
       "4829    475.423848\n",
       "5081    350.400000\n",
       "5011    482.400000\n",
       "4625    673.342650\n",
       "3838    302.400000\n",
       "Name: Total Claim Amount, dtype: float64"
      ]
     },
     "execution_count": 201,
     "metadata": {},
     "output_type": "execute_result"
    }
   ],
   "source": [
    "y_test[:5]"
   ]
  },
  {
   "cell_type": "code",
   "execution_count": 202,
   "id": "244c45dd",
   "metadata": {},
   "outputs": [
    {
     "data": {
      "text/plain": [
       "array([123.01690833, 349.81097607, 414.55142888, 436.17558343,\n",
       "       154.20062224])"
      ]
     },
     "execution_count": 202,
     "metadata": {},
     "output_type": "execute_result"
    }
   ],
   "source": [
    "predictions_test[:5]"
   ]
  },
  {
   "cell_type": "code",
   "execution_count": 203,
   "id": "a1b120d7",
   "metadata": {},
   "outputs": [
    {
     "data": {
      "text/plain": [
       "39816.163515310815"
      ]
     },
     "execution_count": 203,
     "metadata": {},
     "output_type": "execute_result"
    }
   ],
   "source": [
    "from sklearn.metrics import mean_squared_error\n",
    "mse=mean_squared_error(y_test,predictions_test)\n",
    "mse"
   ]
  },
  {
   "cell_type": "code",
   "execution_count": 204,
   "id": "5a1b6b2d",
   "metadata": {},
   "outputs": [
    {
     "data": {
      "text/plain": [
       "199.5398795111163"
      ]
     },
     "execution_count": 204,
     "metadata": {},
     "output_type": "execute_result"
    }
   ],
   "source": [
    "rmse = np.sqrt(mean_squared_error(y_test,predictions_test))\n",
    "rmse"
   ]
  },
  {
   "cell_type": "code",
   "execution_count": 146,
   "id": "d6ad09a8",
   "metadata": {},
   "outputs": [],
   "source": [
    "from sklearn.metrics import mean_absolute_error, r2_score"
   ]
  },
  {
   "cell_type": "code",
   "execution_count": 147,
   "id": "f4c6e5e0",
   "metadata": {},
   "outputs": [
    {
     "name": "stdout",
     "output_type": "stream",
     "text": [
      "144.8499609778472\n"
     ]
    }
   ],
   "source": [
    "mae = mean_absolute_error(y_test, predictions_test)\n",
    "print(mae)"
   ]
  },
  {
   "cell_type": "code",
   "execution_count": 148,
   "id": "2512e353",
   "metadata": {},
   "outputs": [
    {
     "data": {
      "text/plain": [
       "434.1119938006416"
      ]
     },
     "execution_count": 148,
     "metadata": {},
     "output_type": "execute_result"
    }
   ],
   "source": [
    "y_test.mean()"
   ]
  },
  {
   "cell_type": "code",
   "execution_count": 149,
   "id": "6d88a411",
   "metadata": {},
   "outputs": [
    {
     "name": "stdout",
     "output_type": "stream",
     "text": [
      "199.5394208385789\n"
     ]
    }
   ],
   "source": [
    "rmse = math.sqrt(mse)\n",
    "print(rmse)"
   ]
  },
  {
   "cell_type": "code",
   "execution_count": 150,
   "id": "f7c87151",
   "metadata": {},
   "outputs": [
    {
     "data": {
      "text/plain": [
       "0.5068799420067391"
      ]
     },
     "execution_count": 150,
     "metadata": {},
     "output_type": "execute_result"
    }
   ],
   "source": [
    "r2 = r2_score(y_test, predictions_test)\n",
    "r2"
   ]
  },
  {
   "cell_type": "code",
   "execution_count": null,
   "id": "2619a073",
   "metadata": {},
   "outputs": [],
   "source": []
  },
  {
   "cell_type": "code",
   "execution_count": null,
   "id": "bc25c5ae",
   "metadata": {},
   "outputs": [],
   "source": []
  }
 ],
 "metadata": {
  "kernelspec": {
   "display_name": "Python 3 (ipykernel)",
   "language": "python",
   "name": "python3"
  },
  "language_info": {
   "codemirror_mode": {
    "name": "ipython",
    "version": 3
   },
   "file_extension": ".py",
   "mimetype": "text/x-python",
   "name": "python",
   "nbconvert_exporter": "python",
   "pygments_lexer": "ipython3",
   "version": "3.11.3"
  }
 },
 "nbformat": 4,
 "nbformat_minor": 5
}
